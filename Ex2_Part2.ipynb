{
 "cells": [
  {
   "cell_type": "markdown",
   "id": "66f28b29-a5ed-4fde-8842-7b7884de80ea",
   "metadata": {
    "tags": []
   },
   "source": [
    "## Part 2 Datasets/DataFrames: Spark ML and Pipelines\n",
    "Convert the review texts to a classic vector space representation with TFIDF-weighted features based on the Spark DataFrame/Dataset API by building a transformation pipeline. The primary goal of this part is the preparation of the pipeline for Part 3 (see below). Note: although parts of this pipeline will be very similar to Assignment 1 or Part 1 above, do not expect to obtain identical results or have access to all intermediate outputs to compare the individual steps.\n",
    "\n",
    "Use built-in functions for tokenization to unigrams at whitespaces, tabs, digits, and the delimiter characters ()[]{}.!?,;:+=-_\"'`~#@&*%€$§\\/, casefolding, stopword removal, TF-IDF calculation, and chi square selection ) (using 2000 top terms overall). Write the terms selected this way to a file output_ds.txt and compare them with the terms selected in Assignment 1. Describe your observations briefly in the submission report (see Part 3).\n",
    "\n",
    "[Provided link for ML pipeline](https://spark.apache.org/docs/latest/ml-pipeline.html)  \n",
    "[Provided link for feature extraction](https://spark.apache.org/docs/latest/ml-features.html)"
   ]
  },
  {
   "cell_type": "markdown",
   "id": "506c5014-586e-4207-a1ee-4ae70578a208",
   "metadata": {},
   "source": [
    "## Imports"
   ]
  },
  {
   "cell_type": "code",
   "execution_count": 1,
   "id": "5c8870c8-86f0-4b27-bb23-897de467d592",
   "metadata": {
    "tags": []
   },
   "outputs": [],
   "source": [
    "from pyspark import SparkContext, SparkConf\n",
    "from pyspark.sql import SparkSession\n",
    "\n",
    "from pyspark.ml import Pipeline\n",
    "from pyspark.ml.feature import StopWordsRemover\n",
    "from pyspark.ml.feature import HashingTF, IDF, Tokenizer\n",
    "\n",
    "from pyspark.ml.feature import Tokenizer, RegexTokenizer\n",
    "from pyspark.sql.functions import col, udf\n",
    "from pyspark.sql.types import IntegerType\n",
    "\n",
    "from pyspark.ml.feature import ChiSqSelector\n",
    "from pyspark.ml.linalg import Vectors\n",
    "\n",
    "from pyspark.ml.feature import StringIndexer\n",
    "from pyspark.ml.feature import CountVectorizer\n",
    "from pyspark.ml.feature import UnivariateFeatureSelector, ChiSqSelectorModel \n",
    "from pyspark.sql import Row\n",
    "\n",
    "from pyspark.ml.classification import LinearSVC\n",
    "from pyspark.ml.evaluation import MulticlassClassificationEvaluator\n",
    "from pyspark.ml.tuning import ParamGridBuilder, CrossValidator, TrainValidationSplit\n",
    "from pyspark.ml.classification import LogisticRegression, OneVsRest\n",
    "from pyspark.ml.evaluation import MulticlassClassificationEvaluator\n",
    "\n",
    "from pyspark.ml.feature import Normalizer, VectorSlicer\n",
    "\n",
    "from datetime import datetime"
   ]
  },
  {
   "cell_type": "code",
   "execution_count": 2,
   "id": "c4f196c8-c091-4a8c-9b1e-0cf1889e3578",
   "metadata": {
    "tags": []
   },
   "outputs": [],
   "source": [
    "import warnings\n",
    "warnings.filterwarnings(action='once')"
   ]
  },
  {
   "cell_type": "markdown",
   "id": "2338b89d-b829-47f2-b8a4-41237bf548e0",
   "metadata": {},
   "source": [
    "## Initialize Spark"
   ]
  },
  {
   "cell_type": "code",
   "execution_count": 3,
   "id": "473068a3-f3cf-43f7-853b-caaede739ac6",
   "metadata": {
    "tags": []
   },
   "outputs": [
    {
     "name": "stderr",
     "output_type": "stream",
     "text": [
      "SLF4J: Class path contains multiple SLF4J bindings.\n",
      "SLF4J: Found binding in [jar:file:/usr/lib/spark/jars/slf4j-log4j12-1.7.30.jar!/org/slf4j/impl/StaticLoggerBinder.class]\n",
      "SLF4J: Found binding in [jar:file:/usr/lib/hadoop/lib/slf4j-reload4j-1.7.36.jar!/org/slf4j/impl/StaticLoggerBinder.class]\n",
      "SLF4J: See http://www.slf4j.org/codes.html#multiple_bindings for an explanation.\n",
      "SLF4J: Actual binding is of type [org.slf4j.impl.Log4jLoggerFactory]\n",
      "24/05/25 10:20:38 WARN NativeCodeLoader: Unable to load native-hadoop library for your platform... using builtin-java classes where applicable\n",
      "24/05/25 10:20:39 WARN Utils: Service 'SparkUI' could not bind on port 4040. Attempting port 4041.\n",
      "24/05/25 10:20:39 WARN Utils: Service 'SparkUI' could not bind on port 4041. Attempting port 4042.\n",
      "24/05/25 10:20:39 WARN Utils: Service 'SparkUI' could not bind on port 4042. Attempting port 4043.\n",
      "24/05/25 10:20:39 WARN Utils: Service 'SparkUI' could not bind on port 4043. Attempting port 4044.\n",
      "24/05/25 10:20:42 WARN Client: Neither spark.yarn.jars nor spark.yarn.archive is set, falling back to uploading libraries under SPARK_HOME.\n"
     ]
    }
   ],
   "source": [
    "# Initialize Spark context and session\n",
    "conf = SparkConf().setAppName(\"Part2\")\n",
    "sc = SparkContext(conf=conf)\n",
    "spark = SparkSession(sc)"
   ]
  },
  {
   "cell_type": "code",
   "execution_count": 4,
   "id": "a1b857ce-e484-4d92-991e-0b3c71d1ef7f",
   "metadata": {
    "tags": []
   },
   "outputs": [
    {
     "data": {
      "text/html": [
       "\n",
       "            <div>\n",
       "                <p><b>SparkSession - in-memory</b></p>\n",
       "                \n",
       "        <div>\n",
       "            <p><b>SparkContext</b></p>\n",
       "\n",
       "            <p><a href=\"http://jupyter01.os.hpc.tuwien.ac.at:4044\">Spark UI</a></p>\n",
       "\n",
       "            <dl>\n",
       "              <dt>Version</dt>\n",
       "                <dd><code>v3.2.3</code></dd>\n",
       "              <dt>Master</dt>\n",
       "                <dd><code>yarn</code></dd>\n",
       "              <dt>AppName</dt>\n",
       "                <dd><code>Part2</code></dd>\n",
       "            </dl>\n",
       "        </div>\n",
       "        \n",
       "            </div>\n",
       "        "
      ],
      "text/plain": [
       "<pyspark.sql.session.SparkSession at 0x7fd56013bca0>"
      ]
     },
     "execution_count": 4,
     "metadata": {},
     "output_type": "execute_result"
    }
   ],
   "source": [
    "spark"
   ]
  },
  {
   "cell_type": "markdown",
   "id": "abadc07e-77eb-48cb-8b6f-f444c7362aa1",
   "metadata": {},
   "source": [
    "### Importing data\n",
    "Stopwords file as well as test data"
   ]
  },
  {
   "cell_type": "code",
   "execution_count": 5,
   "id": "0ee8fe45-dfdb-40c4-b0b6-727c45252da3",
   "metadata": {
    "tags": []
   },
   "outputs": [
    {
     "name": "stderr",
     "output_type": "stream",
     "text": [
      "                                                                                \r"
     ]
    }
   ],
   "source": [
    "# Define the stopwords file and the counters file\n",
    "stopwords_file = \"stopwords.txt\"\n",
    "\n",
    "# Load stopwords into a set\n",
    "with open(stopwords_file, \"r\") as f:\n",
    "    stopwords = set(f.read().strip().split())\n",
    "    \n",
    "# Load and preprocess the Amazon reviews dataset\n",
    "input_file = \"hdfs:///user/dic24_shared/amazon-reviews/full/reviews_devset.json\"\n",
    "reviews_df = spark.read.json(input_file)"
   ]
  },
  {
   "cell_type": "code",
   "execution_count": 6,
   "id": "d527f40f-3aa7-4e2e-84c4-c0761ddb096e",
   "metadata": {
    "tags": []
   },
   "outputs": [
    {
     "name": "stdout",
     "output_type": "stream",
     "text": [
      "+--------------------+--------------------+\n",
      "|            category|          reviewText|\n",
      "+--------------------+--------------------+\n",
      "|Patio_Lawn_and_Garde|This was a gift f...|\n",
      "|Patio_Lawn_and_Garde|This is a very ni...|\n",
      "|Patio_Lawn_and_Garde|The metal base wi...|\n",
      "|Patio_Lawn_and_Garde|For the most part...|\n",
      "|Patio_Lawn_and_Garde|This hose is supp...|\n",
      "|Patio_Lawn_and_Garde|This tool works v...|\n",
      "|Patio_Lawn_and_Garde|This product is a...|\n",
      "|Patio_Lawn_and_Garde|I was excited to ...|\n",
      "|Patio_Lawn_and_Garde|I purchased the L...|\n",
      "|Patio_Lawn_and_Garde|Never used a manu...|\n",
      "|Patio_Lawn_and_Garde|Good price. Good ...|\n",
      "|Patio_Lawn_and_Garde|I have owned the ...|\n",
      "|Patio_Lawn_and_Garde|I had \"won\" a sim...|\n",
      "|Patio_Lawn_and_Garde|The birds ate all...|\n",
      "|Patio_Lawn_and_Garde|Bought last summe...|\n",
      "|Patio_Lawn_and_Garde|I knew I had a mo...|\n",
      "|Patio_Lawn_and_Garde|I was a little wo...|\n",
      "|Patio_Lawn_and_Garde|I have used this ...|\n",
      "|Patio_Lawn_and_Garde|I actually do not...|\n",
      "|Patio_Lawn_and_Garde|Just what I  expe...|\n",
      "+--------------------+--------------------+\n",
      "only showing top 20 rows\n",
      "\n"
     ]
    }
   ],
   "source": [
    "reviews_df = reviews_df.select(\"category\", \"reviewText\")\n",
    "\n",
    "# Show the DataFrame with selected columns\n",
    "reviews_df.show()"
   ]
  },
  {
   "cell_type": "markdown",
   "id": "3c9a960f-e270-441c-8ac3-459f7651f821",
   "metadata": {},
   "source": [
    "## Create RegexTokenizer"
   ]
  },
  {
   "cell_type": "code",
   "execution_count": 7,
   "id": "018993a2-4daa-4020-a15a-1f755d9e97f7",
   "metadata": {
    "tags": []
   },
   "outputs": [],
   "source": [
    "pattern = r'\\s+|\\d+|[(){}\\[\\].!?,;:+=_\"\\'`~#@&*%€$§\\\\/\\-]'\n",
    "regexTokenizer = RegexTokenizer(inputCol=\"reviewText\", outputCol=\"words\", pattern=pattern)"
   ]
  },
  {
   "cell_type": "markdown",
   "id": "24675b04-1bd4-434d-81d7-4d021541c386",
   "metadata": {},
   "source": [
    "## Create StopWordsRemover"
   ]
  },
  {
   "cell_type": "code",
   "execution_count": 8,
   "id": "a935c1f3-84b4-478f-a6fb-b4718df9e7c7",
   "metadata": {
    "tags": []
   },
   "outputs": [],
   "source": [
    "remover = StopWordsRemover(stopWords = list(stopwords), inputCol=\"words\", outputCol=\"filtered_words\")"
   ]
  },
  {
   "cell_type": "markdown",
   "id": "2f995c64-2f56-43ce-8361-053506eff072",
   "metadata": {},
   "source": [
    "## Create CountVectorizer"
   ]
  },
  {
   "cell_type": "code",
   "execution_count": 9,
   "id": "a51d02b4-d9b5-444a-982a-a35605ea1440",
   "metadata": {
    "tags": []
   },
   "outputs": [],
   "source": [
    "#hashingTF = HashingTF(inputCol=\"filtered_words\", outputCol=\"rawFeatures\")\n",
    "countV = CountVectorizer(inputCol=\"filtered_words\", outputCol=\"rawFeatures\").setMinTF(1).setMinDF(3).setVocabSize(7500)"
   ]
  },
  {
   "cell_type": "markdown",
   "id": "e86ae8be-1adb-4678-8734-9a58adbaea36",
   "metadata": {},
   "source": [
    "## Create IDF model"
   ]
  },
  {
   "cell_type": "code",
   "execution_count": 10,
   "id": "939ee103-64d4-4175-8e00-32352ee5d453",
   "metadata": {
    "tags": []
   },
   "outputs": [],
   "source": [
    "idf = IDF(inputCol=\"rawFeatures\", outputCol=\"features\")"
   ]
  },
  {
   "cell_type": "markdown",
   "id": "760c3fcc-5a87-4ed9-9a94-76e373521982",
   "metadata": {},
   "source": [
    "## Create StringIndexer"
   ]
  },
  {
   "cell_type": "code",
   "execution_count": 11,
   "id": "623e43a1-b476-459a-820a-328b88c5cea8",
   "metadata": {
    "tags": []
   },
   "outputs": [],
   "source": [
    "# Apply StringIndexer to convert categorical column to numerical\n",
    "indexer = StringIndexer(inputCol=\"category\", outputCol=\"label\")"
   ]
  },
  {
   "cell_type": "markdown",
   "id": "c39ab712-7d3f-41d6-a524-a44c7fddf2ac",
   "metadata": {},
   "source": [
    "## Create Selector\n",
    "Here, we add a SelectionThreshold of 2000 to have the top 2000 terms overall."
   ]
  },
  {
   "cell_type": "code",
   "execution_count": 12,
   "id": "0bc18d5b-0676-400d-b052-7bef239683fa",
   "metadata": {
    "tags": []
   },
   "outputs": [
    {
     "data": {
      "text/plain": [
       "UnivariateFeatureSelector_7ed338977ba5"
      ]
     },
     "execution_count": 12,
     "metadata": {},
     "output_type": "execute_result"
    }
   ],
   "source": [
    "selector = UnivariateFeatureSelector(\n",
    "    featuresCol=\"features\",outputCol=\"selectedFeatures\",\n",
    "    labelCol=\"label\",  selectionMode=\"numTopFeatures\",\n",
    ")\n",
    "selector.setFeatureType(\"categorical\").setLabelType(\"categorical\").setSelectionThreshold(2000)"
   ]
  },
  {
   "cell_type": "markdown",
   "id": "3d384dbc-28c3-4d5f-9cad-8c1ef079c20f",
   "metadata": {},
   "source": [
    "## Create Pipeline"
   ]
  },
  {
   "cell_type": "code",
   "execution_count": 13,
   "id": "da257682-1594-450c-b18f-29b3a328bf22",
   "metadata": {
    "tags": []
   },
   "outputs": [],
   "source": [
    "pipeline = Pipeline(stages=[regexTokenizer, remover, countV, idf, indexer, selector])"
   ]
  },
  {
   "cell_type": "code",
   "execution_count": 14,
   "id": "d434b0f7-6550-44fc-8646-f03ef8d590a7",
   "metadata": {
    "tags": []
   },
   "outputs": [
    {
     "name": "stderr",
     "output_type": "stream",
     "text": [
      "                                                                                \r"
     ]
    }
   ],
   "source": [
    "model = pipeline.fit(reviews_df)"
   ]
  },
  {
   "cell_type": "code",
   "execution_count": 15,
   "id": "f2bcade8-b9d6-4f68-8da1-7f0df3981f3d",
   "metadata": {
    "tags": []
   },
   "outputs": [],
   "source": [
    "result = model.transform(reviews_df)"
   ]
  },
  {
   "cell_type": "code",
   "execution_count": 16,
   "id": "b3ff37f8-dcd5-497e-8bd9-2cf7372c5e98",
   "metadata": {
    "tags": []
   },
   "outputs": [
    {
     "name": "stdout",
     "output_type": "stream",
     "text": [
      "+--------------------+\n",
      "|    selectedFeatures|\n",
      "+--------------------+\n",
      "|(2000,[2,3,7,8,35...|\n",
      "|(2000,[0,1,3,21,3...|\n",
      "|(2000,[4,10,174,3...|\n",
      "|(2000,[1,3,4,9,10...|\n",
      "|(2000,[12,29,101,...|\n",
      "|(2000,[0,3,4,8,11...|\n",
      "|(2000,[18,112,175...|\n",
      "|(2000,[6,21,32,36...|\n",
      "|(2000,[3,4,5,6,40...|\n",
      "|(2000,[6,8,38,78,...|\n",
      "|(2000,[1,13,226],...|\n",
      "|(2000,[5,17,33,40...|\n",
      "|(2000,[1,11,28,35...|\n",
      "|(2000,[40,144,339...|\n",
      "|(2000,[0,3,7,9,11...|\n",
      "|(2000,[8,26,57,80...|\n",
      "|(2000,[1,15,120,1...|\n",
      "|(2000,[2,3,221,26...|\n",
      "|(2000,[4,10,16,20...|\n",
      "|(2000,[0,18,30,42...|\n",
      "+--------------------+\n",
      "only showing top 20 rows\n",
      "\n"
     ]
    }
   ],
   "source": [
    "result.select(\"selectedFeatures\").show(truncate=True)"
   ]
  },
  {
   "cell_type": "markdown",
   "id": "43cf8864-ee28-4c1e-8385-7755946fabee",
   "metadata": {},
   "source": [
    "## Get top 2000 terms"
   ]
  },
  {
   "cell_type": "code",
   "execution_count": 17,
   "id": "0fbaffe6-c201-4c37-bea8-cca0414943cc",
   "metadata": {
    "tags": []
   },
   "outputs": [],
   "source": [
    "# Extract vocabulary from CountVectorizer\n",
    "vocabulary = model.stages[2].vocabulary\n",
    "\n",
    "# Map selected feature indices to terms\n",
    "selected_terms = [vocabulary[i] for i in model.stages[-1].selectedFeatures]"
   ]
  },
  {
   "cell_type": "code",
   "execution_count": 18,
   "id": "17a0630f-b8aa-4486-bc8f-02879a6439f4",
   "metadata": {
    "tags": []
   },
   "outputs": [
    {
     "data": {
      "text/plain": [
       "2000"
      ]
     },
     "execution_count": 18,
     "metadata": {},
     "output_type": "execute_result"
    }
   ],
   "source": [
    "len(selected_terms)"
   ]
  },
  {
   "cell_type": "code",
   "execution_count": 19,
   "id": "796e0a6e-2af6-4bfe-a982-517b0074d973",
   "metadata": {
    "tags": []
   },
   "outputs": [
    {
     "data": {
      "text/plain": [
       "False"
      ]
     },
     "execution_count": 19,
     "metadata": {},
     "output_type": "execute_result"
    }
   ],
   "source": [
    "vocabulary[:30] == selected_terms[:30]"
   ]
  },
  {
   "cell_type": "code",
   "execution_count": 20,
   "id": "f65c8969-7816-4a5a-aed4-9c58fc81d2cd",
   "metadata": {
    "tags": []
   },
   "outputs": [
    {
     "data": {
      "text/plain": [
       "list"
      ]
     },
     "execution_count": 20,
     "metadata": {},
     "output_type": "execute_result"
    }
   ],
   "source": [
    "type(selected_terms)"
   ]
  },
  {
   "cell_type": "code",
   "execution_count": 21,
   "id": "8b1e266b-6ec9-44e3-afa8-e70e028c01f7",
   "metadata": {
    "tags": []
   },
   "outputs": [],
   "source": [
    "with open(\"output_ds.txt\", \"w\") as f:\n",
    "    for term in selected_terms:\n",
    "        f.write(term + \"\\n\")"
   ]
  },
  {
   "cell_type": "markdown",
   "id": "7c7210c9-6722-44af-a2bd-89e03b8e1558",
   "metadata": {},
   "source": [
    "# Part 3"
   ]
  },
  {
   "cell_type": "markdown",
   "id": "9deb93d7-f349-4b74-a96a-f10ec90d8844",
   "metadata": {},
   "source": [
    "In this part, you will train a text classifier from the features extracted in Part 2. The goal is to learn a model that can predict the product category from a review's text.\n",
    "\n",
    "To this end, extend the pipeline from Part 2 such that a Support Vector Machine classifier is trained. Since we are dealing with multi-class problems, make sure to put a strategy in place that allows binary classifiers to be applicable. Apply vector length normalization before feeding the feature vectors into the classifier (use Normalizer with L2 norm).\n",
    "\n",
    "Follow best practices for machine learning experiment design and investigate the effects of parameter settings using the functions provided by Spark:\n",
    "\n",
    "- Split the review data into training, validation, and test set.\n",
    "\n",
    "- Make experiments reproducible.\n",
    "\n",
    "- Use a grid search for parameter optimization:\n",
    "\n",
    "- Compare chi square overall top 2000 filtered features with another, heavier filtering with much less dimensionality (see Spark ML documentation for options).\n",
    "\n",
    "- Compare different SVM settings by varying the regularization parameter (choose 3 different values), standardization of training features (2 values), and maximum number of iterations (2 values).\n",
    "\n",
    "Use the MulticlassClassificationEvaluator to estimate performance of your trained classifiers on the test set, using F1 measure as criterion."
   ]
  },
  {
   "cell_type": "markdown",
   "id": "e4caf75d-dc98-4bd9-a434-5c4bc2470812",
   "metadata": {},
   "source": [
    "## Split into Train/Test/Val and set seed"
   ]
  },
  {
   "cell_type": "code",
   "execution_count": 22,
   "id": "c01a7465-d759-4da1-af46-19adfa162dea",
   "metadata": {
    "tags": []
   },
   "outputs": [],
   "source": [
    "(reviews_train, reviews_test) = reviews_df.randomSplit([0.7, 0.3], 123)"
   ]
  },
  {
   "cell_type": "code",
   "execution_count": 23,
   "id": "54a58973-e718-4983-9b41-b88bdd677a91",
   "metadata": {
    "tags": []
   },
   "outputs": [
    {
     "name": "stderr",
     "output_type": "stream",
     "text": [
      "                                                                                \r"
     ]
    },
    {
     "data": {
      "text/plain": [
       "55211"
      ]
     },
     "execution_count": 23,
     "metadata": {},
     "output_type": "execute_result"
    }
   ],
   "source": [
    "reviews_train.count()"
   ]
  },
  {
   "cell_type": "code",
   "execution_count": 24,
   "id": "4b22113d-22e2-4c75-870d-df2f5838cf2f",
   "metadata": {
    "tags": []
   },
   "outputs": [
    {
     "name": "stderr",
     "output_type": "stream",
     "text": [
      "                                                                                \r"
     ]
    },
    {
     "data": {
      "text/plain": [
       "23618"
      ]
     },
     "execution_count": 24,
     "metadata": {},
     "output_type": "execute_result"
    }
   ],
   "source": [
    "reviews_test.count()"
   ]
  },
  {
   "cell_type": "markdown",
   "id": "082d31d5-3c03-4887-b1a2-fbe4d688d637",
   "metadata": {},
   "source": [
    "## Extend Pipeline"
   ]
  },
  {
   "cell_type": "code",
   "execution_count": 25,
   "id": "4888a1db-c5bc-42e8-ad6f-7e495d44f68f",
   "metadata": {
    "tags": []
   },
   "outputs": [],
   "source": [
    "normalizer = Normalizer(inputCol=\"selectedFeatures\", outputCol=\"normalized_features\")"
   ]
  },
  {
   "cell_type": "code",
   "execution_count": 26,
   "id": "732a8206-5357-491c-8fab-beb380ff7210",
   "metadata": {
    "tags": []
   },
   "outputs": [],
   "source": [
    "svm = LinearSVC(featuresCol=\"normalized_features\")\n",
    "ovr = OneVsRest(classifier=svm)"
   ]
  },
  {
   "cell_type": "code",
   "execution_count": 27,
   "id": "f43085d0-3833-45e8-be5b-7585da3c5649",
   "metadata": {
    "tags": []
   },
   "outputs": [],
   "source": [
    "extended_pipeline = Pipeline(stages=[regexTokenizer, remover, countV, idf, indexer, selector, normalizer, ovr])"
   ]
  },
  {
   "cell_type": "markdown",
   "id": "2b87a460-9ecb-4e85-ae1d-8b0a4fbe886a",
   "metadata": {},
   "source": [
    "## Define Evaluator"
   ]
  },
  {
   "cell_type": "code",
   "execution_count": 28,
   "id": "ba203222-7590-42ce-a2d3-72bc825fe85f",
   "metadata": {
    "tags": []
   },
   "outputs": [],
   "source": [
    "evaluator = MulticlassClassificationEvaluator(metricName=\"f1\")"
   ]
  },
  {
   "cell_type": "markdown",
   "id": "fabb4d40-e73d-4910-9046-ac5e7d4fa092",
   "metadata": {},
   "source": [
    "## Perform Grid Search using different SVM settings"
   ]
  },
  {
   "cell_type": "markdown",
   "id": "52d4e8a3-cadd-4b76-9af9-1b9e5db30968",
   "metadata": {},
   "source": [
    "Create a param grid to train and evaluate pipeline. Use TrainValidationSplit for single model per combination."
   ]
  },
  {
   "cell_type": "code",
   "execution_count": 29,
   "id": "bbcdb0b5-fa05-4633-8846-c9a3fe6503d4",
   "metadata": {
    "tags": []
   },
   "outputs": [],
   "source": [
    "param_grid = ParamGridBuilder() \\\n",
    "    .addGrid(svm.regParam, [0.1, 0.01, 0.001]) \\\n",
    "    .addGrid(svm.maxIter, [10, 20]) \\\n",
    "    .addGrid(svm.standardization, [True, False]) \\\n",
    "    .addGrid(selector.selectionThreshold, [2000, 250]) \\\n",
    "    .build()\n",
    "\n",
    "validator = TrainValidationSplit(estimator=extended_pipeline, estimatorParamMaps=param_grid, evaluator=evaluator, trainRatio = 0.7, parallelism = 4, seed=123)"
   ]
  },
  {
   "cell_type": "markdown",
   "id": "e7d1b34a-0801-4a13-9310-fc8ee9bcddda",
   "metadata": {},
   "source": [
    "Perform a grid search on a subset of the training data to approximate the best parameters."
   ]
  },
  {
   "cell_type": "code",
   "execution_count": 30,
   "id": "2060737a-f82c-4b67-9f39-3caebeaf086a",
   "metadata": {
    "tags": []
   },
   "outputs": [
    {
     "name": "stderr",
     "output_type": "stream",
     "text": [
      "/usr/lib64/python3.9/socket.py:775: ResourceWarning: unclosed <socket.socket fd=72, family=AddressFamily.AF_INET, type=SocketKind.SOCK_STREAM, proto=6, laddr=('127.0.0.1', 35820), raddr=('127.0.0.1', 46335)>\n",
      "  self._sock = None\n",
      "ResourceWarning: Enable tracemalloc to get the object allocation traceback\n",
      "/usr/lib64/python3.9/socket.py:775: ResourceWarning: unclosed <socket.socket fd=75, family=AddressFamily.AF_INET, type=SocketKind.SOCK_STREAM, proto=6, laddr=('127.0.0.1', 43152), raddr=('127.0.0.1', 40857)>\n",
      "  self._sock = None\n",
      "ResourceWarning: Enable tracemalloc to get the object allocation traceback\n",
      "/usr/lib64/python3.9/socket.py:775: ResourceWarning: unclosed <socket.socket fd=75, family=AddressFamily.AF_INET, type=SocketKind.SOCK_STREAM, proto=6, laddr=('127.0.0.1', 40200), raddr=('127.0.0.1', 38777)>\n",
      "  self._sock = None\n",
      "ResourceWarning: Enable tracemalloc to get the object allocation traceback\n",
      "/usr/lib64/python3.9/socket.py:775: ResourceWarning: unclosed <socket.socket fd=81, family=AddressFamily.AF_INET, type=SocketKind.SOCK_STREAM, proto=6, laddr=('127.0.0.1', 57792), raddr=('127.0.0.1', 44145)>\n",
      "  self._sock = None\n",
      "ResourceWarning: Enable tracemalloc to get the object allocation traceback\n",
      "24/05/25 10:23:26 WARN InstanceBuilder$NativeBLAS: Failed to load implementation from:dev.ludovic.netlib.blas.JNIBLAS\n",
      "24/05/25 10:23:26 WARN InstanceBuilder$NativeBLAS: Failed to load implementation from:dev.ludovic.netlib.blas.ForeignLinkerBLAS\n",
      "24/05/25 10:23:26 WARN BLAS: Failed to load implementation from: com.github.fommil.netlib.NativeSystemBLAS\n",
      "24/05/25 10:23:26 WARN BLAS: Failed to load implementation from: com.github.fommil.netlib.NativeRefBLAS\n",
      "/usr/lib64/python3.9/multiprocessing/pool.py:265: ResourceWarning: unclosed running multiprocessing pool <multiprocessing.pool.ThreadPool state=RUN pool_size=1>\n",
      "  _warn(f\"unclosed running multiprocessing pool {self!r}\",\n",
      "ResourceWarning: Enable tracemalloc to get the object allocation traceback\n",
      "24/05/25 10:35:26 WARN DAGScheduler: Broadcasting large task binary with size 1822.1 KiB\n",
      "24/05/25 10:35:26 WARN DAGScheduler: Broadcasting large task binary with size 1822.1 KiB\n",
      "/usr/lib64/python3.9/socket.py:775: ResourceWarning: unclosed <socket.socket fd=78, family=AddressFamily.AF_INET, type=SocketKind.SOCK_STREAM, proto=6, laddr=('127.0.0.1', 54672), raddr=('127.0.0.1', 45901)>\n",
      "  self._sock = None\n",
      "ResourceWarning: Enable tracemalloc to get the object allocation traceback\n",
      "/usr/lib64/python3.9/socket.py:775: ResourceWarning: unclosed <socket.socket fd=83, family=AddressFamily.AF_INET, type=SocketKind.SOCK_STREAM, proto=6, laddr=('127.0.0.1', 58302), raddr=('127.0.0.1', 44639)>\n",
      "  self._sock = None\n",
      "ResourceWarning: Enable tracemalloc to get the object allocation traceback\n",
      "24/05/25 10:37:16 WARN DAGScheduler: Broadcasting large task binary with size 1822.1 KiB\n",
      "24/05/25 10:37:18 WARN DAGScheduler: Broadcasting large task binary with size 1822.1 KiB\n",
      "/usr/lib64/python3.9/socket.py:775: ResourceWarning: unclosed <socket.socket fd=72, family=AddressFamily.AF_INET, type=SocketKind.SOCK_STREAM, proto=6, laddr=('127.0.0.1', 41826), raddr=('127.0.0.1', 36957)>\n",
      "  self._sock = None\n",
      "ResourceWarning: Enable tracemalloc to get the object allocation traceback\n",
      "/usr/lib64/python3.9/socket.py:775: ResourceWarning: unclosed <socket.socket fd=75, family=AddressFamily.AF_INET, type=SocketKind.SOCK_STREAM, proto=6, laddr=('127.0.0.1', 54960), raddr=('127.0.0.1', 43405)>\n",
      "  self._sock = None\n",
      "ResourceWarning: Enable tracemalloc to get the object allocation traceback\n",
      "24/05/25 10:52:22 WARN DAGScheduler: Broadcasting large task binary with size 1822.1 KiB\n",
      "24/05/25 10:52:22 WARN DAGScheduler: Broadcasting large task binary with size 1822.1 KiB\n",
      "/usr/lib64/python3.9/socket.py:775: ResourceWarning: unclosed <socket.socket fd=78, family=AddressFamily.AF_INET, type=SocketKind.SOCK_STREAM, proto=6, laddr=('127.0.0.1', 40138), raddr=('127.0.0.1', 38711)>\n",
      "  self._sock = None\n",
      "ResourceWarning: Enable tracemalloc to get the object allocation traceback\n",
      "/usr/lib64/python3.9/socket.py:775: ResourceWarning: unclosed <socket.socket fd=83, family=AddressFamily.AF_INET, type=SocketKind.SOCK_STREAM, proto=6, laddr=('127.0.0.1', 58394), raddr=('127.0.0.1', 44889)>\n",
      "  self._sock = None\n",
      "ResourceWarning: Enable tracemalloc to get the object allocation traceback\n",
      "24/05/25 10:55:10 WARN DAGScheduler: Broadcasting large task binary with size 1822.1 KiB\n",
      "/usr/lib64/python3.9/socket.py:775: ResourceWarning: unclosed <socket.socket fd=72, family=AddressFamily.AF_INET, type=SocketKind.SOCK_STREAM, proto=6, laddr=('127.0.0.1', 40160), raddr=('127.0.0.1', 41777)>\n",
      "  self._sock = None\n",
      "ResourceWarning: Enable tracemalloc to get the object allocation traceback\n",
      "24/05/25 10:56:33 WARN DAGScheduler: Broadcasting large task binary with size 1822.1 KiB\n",
      "/usr/lib64/python3.9/socket.py:775: ResourceWarning: unclosed <socket.socket fd=75, family=AddressFamily.AF_INET, type=SocketKind.SOCK_STREAM, proto=6, laddr=('127.0.0.1', 58270), raddr=('127.0.0.1', 36321)>\n",
      "  self._sock = None\n",
      "ResourceWarning: Enable tracemalloc to get the object allocation traceback\n",
      "24/05/25 11:00:47 WARN BlockManager: Asked to remove block broadcast_14509, which does not exist\n",
      "24/05/25 11:07:56 WARN DAGScheduler: Broadcasting large task binary with size 1822.1 KiB\n",
      "/usr/lib64/python3.9/socket.py:775: ResourceWarning: unclosed <socket.socket fd=83, family=AddressFamily.AF_INET, type=SocketKind.SOCK_STREAM, proto=6, laddr=('127.0.0.1', 58564), raddr=('127.0.0.1', 43489)>\n",
      "  self._sock = None\n",
      "ResourceWarning: Enable tracemalloc to get the object allocation traceback\n",
      "24/05/25 11:08:51 WARN DAGScheduler: Broadcasting large task binary with size 1822.1 KiB\n",
      "/usr/lib64/python3.9/socket.py:775: ResourceWarning: unclosed <socket.socket fd=78, family=AddressFamily.AF_INET, type=SocketKind.SOCK_STREAM, proto=6, laddr=('127.0.0.1', 41186), raddr=('127.0.0.1', 45481)>\n",
      "  self._sock = None\n",
      "ResourceWarning: Enable tracemalloc to get the object allocation traceback\n",
      "24/05/25 11:10:53 WARN DAGScheduler: Broadcasting large task binary with size 1822.1 KiB\n",
      "24/05/25 11:11:23 WARN DAGScheduler: Broadcasting large task binary with size 1822.1 KiB\n",
      "/usr/lib64/python3.9/socket.py:775: ResourceWarning: unclosed <socket.socket fd=72, family=AddressFamily.AF_INET, type=SocketKind.SOCK_STREAM, proto=6, laddr=('127.0.0.1', 52066), raddr=('127.0.0.1', 45327)>\n",
      "  self._sock = None\n",
      "ResourceWarning: Enable tracemalloc to get the object allocation traceback\n",
      "/usr/lib64/python3.9/socket.py:775: ResourceWarning: unclosed <socket.socket fd=75, family=AddressFamily.AF_INET, type=SocketKind.SOCK_STREAM, proto=6, laddr=('127.0.0.1', 50612), raddr=('127.0.0.1', 37789)>\n",
      "  self._sock = None\n",
      "ResourceWarning: Enable tracemalloc to get the object allocation traceback\n",
      "24/05/25 11:25:45 WARN DAGScheduler: Broadcasting large task binary with size 1822.1 KiB\n",
      "24/05/25 11:26:23 WARN DAGScheduler: Broadcasting large task binary with size 1822.1 KiB\n",
      "/usr/lib64/python3.9/socket.py:775: ResourceWarning: unclosed <socket.socket fd=78, family=AddressFamily.AF_INET, type=SocketKind.SOCK_STREAM, proto=6, laddr=('127.0.0.1', 40450), raddr=('127.0.0.1', 44975)>\n",
      "  self._sock = None\n",
      "ResourceWarning: Enable tracemalloc to get the object allocation traceback\n",
      "/usr/lib64/python3.9/socket.py:775: ResourceWarning: unclosed <socket.socket fd=83, family=AddressFamily.AF_INET, type=SocketKind.SOCK_STREAM, proto=6, laddr=('127.0.0.1', 55796), raddr=('127.0.0.1', 44497)>\n",
      "  self._sock = None\n",
      "ResourceWarning: Enable tracemalloc to get the object allocation traceback\n",
      "24/05/25 11:28:11 WARN DAGScheduler: Broadcasting large task binary with size 1822.1 KiB\n",
      "24/05/25 11:28:45 WARN DAGScheduler: Broadcasting large task binary with size 1822.1 KiB\n",
      "/usr/lib64/python3.9/socket.py:775: ResourceWarning: unclosed <socket.socket fd=72, family=AddressFamily.AF_INET, type=SocketKind.SOCK_STREAM, proto=6, laddr=('127.0.0.1', 43220), raddr=('127.0.0.1', 37701)>\n",
      "  self._sock = None\n",
      "ResourceWarning: Enable tracemalloc to get the object allocation traceback\n",
      "/usr/lib64/python3.9/socket.py:775: ResourceWarning: unclosed <socket.socket fd=79, family=AddressFamily.AF_INET, type=SocketKind.SOCK_STREAM, proto=6, laddr=('127.0.0.1', 56672), raddr=('127.0.0.1', 40977)>\n",
      "  self._sock = None\n",
      "ResourceWarning: Enable tracemalloc to get the object allocation traceback\n",
      "24/05/25 11:41:08 WARN DAGScheduler: Broadcasting large task binary with size 1822.1 KiB\n",
      "/usr/lib64/python3.9/socket.py:775: ResourceWarning: unclosed <socket.socket fd=78, family=AddressFamily.AF_INET, type=SocketKind.SOCK_STREAM, proto=6, laddr=('127.0.0.1', 56160), raddr=('127.0.0.1', 42455)>\n",
      "  self._sock = None\n",
      "ResourceWarning: Enable tracemalloc to get the object allocation traceback\n",
      "24/05/25 11:42:19 WARN DAGScheduler: Broadcasting large task binary with size 1822.1 KiB\n",
      "24/05/25 11:42:50 WARN DAGScheduler: Broadcasting large task binary with size 1822.1 KiB\n",
      "/usr/lib64/python3.9/socket.py:775: ResourceWarning: unclosed <socket.socket fd=79, family=AddressFamily.AF_INET, type=SocketKind.SOCK_STREAM, proto=6, laddr=('127.0.0.1', 42560), raddr=('127.0.0.1', 44489)>\n",
      "  self._sock = None\n",
      "ResourceWarning: Enable tracemalloc to get the object allocation traceback\n",
      "24/05/25 11:43:22 WARN DAGScheduler: Broadcasting large task binary with size 1822.1 KiB\n",
      "/usr/lib64/python3.9/socket.py:775: ResourceWarning: unclosed <socket.socket fd=72, family=AddressFamily.AF_INET, type=SocketKind.SOCK_STREAM, proto=6, laddr=('127.0.0.1', 60042), raddr=('127.0.0.1', 33723)>\n",
      "  self._sock = None\n",
      "ResourceWarning: Enable tracemalloc to get the object allocation traceback\n",
      "/usr/lib64/python3.9/socket.py:775: ResourceWarning: unclosed <socket.socket fd=86, family=AddressFamily.AF_INET, type=SocketKind.SOCK_STREAM, proto=6, laddr=('127.0.0.1', 34524), raddr=('127.0.0.1', 45835)>\n",
      "  self._sock = None\n",
      "ResourceWarning: Enable tracemalloc to get the object allocation traceback\n",
      "24/05/25 11:58:46 WARN DAGScheduler: Broadcasting large task binary with size 1822.1 KiB\n",
      "24/05/25 11:58:49 WARN DAGScheduler: Broadcasting large task binary with size 1822.1 KiB\n",
      "24/05/25 11:58:49 WARN DAGScheduler: Broadcasting large task binary with size 1822.1 KiB\n",
      "24/05/25 11:58:50 WARN DAGScheduler: Broadcasting large task binary with size 1822.1 KiB\n",
      "/usr/lib64/python3.9/socket.py:775: ResourceWarning: unclosed <socket.socket fd=72, family=AddressFamily.AF_INET, type=SocketKind.SOCK_STREAM, proto=6, laddr=('127.0.0.1', 33766), raddr=('127.0.0.1', 37421)>\n",
      "  self._sock = None\n",
      "ResourceWarning: Enable tracemalloc to get the object allocation traceback\n",
      "/usr/lib64/python3.9/multiprocessing/pool.py:265: ResourceWarning: unclosed running multiprocessing pool <multiprocessing.pool.ThreadPool state=RUN pool_size=4>\n",
      "  _warn(f\"unclosed running multiprocessing pool {self!r}\",\n",
      "ResourceWarning: Enable tracemalloc to get the object allocation traceback\n"
     ]
    }
   ],
   "source": [
    "start_time = datetime.now()\n",
    "cv_model = validator.fit(reviews_train)\n",
    "end_time = datetime.now()"
   ]
  },
  {
   "cell_type": "code",
   "execution_count": 31,
   "id": "047e3af8-3bc3-432c-9264-6e56d6398d5f",
   "metadata": {
    "tags": []
   },
   "outputs": [
    {
     "name": "stdout",
     "output_type": "stream",
     "text": [
      "start time: 2024-05-25 10:22:03.343754\n",
      "end time: 2024-05-25 12:05:15.931210\n",
      "time elapsed: 1:43:12.587456\n"
     ]
    },
    {
     "name": "stderr",
     "output_type": "stream",
     "text": [
      "                                                                                \r"
     ]
    },
    {
     "name": "stdout",
     "output_type": "stream",
     "text": [
      "\n",
      "no. reviews used to train: 55211\n",
      "no. reviews used to test: 23618\n"
     ]
    },
    {
     "name": "stderr",
     "output_type": "stream",
     "text": [
      "                                                                                \r"
     ]
    }
   ],
   "source": [
    "print(\"start time:\", start_time)\n",
    "print(\"end time:\", end_time)\n",
    "print(\"time elapsed:\", end_time - start_time)\n",
    "\n",
    "print(\"\\nno. reviews used to train:\", reviews_train.count())\n",
    "print(\"no. reviews used to test:\", reviews_test.count())"
   ]
  },
  {
   "cell_type": "code",
   "execution_count": 32,
   "id": "94dba137-acbe-4c7c-845d-8b362d4a8a76",
   "metadata": {
    "tags": []
   },
   "outputs": [
    {
     "name": "stdout",
     "output_type": "stream",
     "text": [
      "Best Params:\n",
      "RegParam: 0.01\n",
      "MaxIter: 10\n",
      "Standardization: False\n",
      "P value: 2000.0\n"
     ]
    }
   ],
   "source": [
    "# Get the best model\n",
    "bestModel = cv_model.bestModel\n",
    "\n",
    "# Show the best parameters\n",
    "print(\"Best Params:\")\n",
    "print(\"RegParam:\", bestModel.stages[-1].models[0].getOrDefault(\"regParam\"))\n",
    "print(\"MaxIter:\", bestModel.stages[-1].models[0].getOrDefault(\"maxIter\"))\n",
    "print(\"Standardization:\", bestModel.stages[-1].models[0].getOrDefault(\"standardization\"))\n",
    "print(\"P value:\", bestModel.stages[-3].getOrDefault(\"selectionThreshold\"))"
   ]
  },
  {
   "cell_type": "code",
   "execution_count": 33,
   "id": "d8fb2c7a-f784-44b3-ba32-938a5ffdc463",
   "metadata": {
    "tags": []
   },
   "outputs": [
    {
     "name": "stderr",
     "output_type": "stream",
     "text": [
      "24/05/25 12:05:22 WARN DAGScheduler: Broadcasting large task binary with size 1818.9 KiB\n",
      "[Stage 19638:===========================>                           (1 + 1) / 2]\r"
     ]
    },
    {
     "name": "stdout",
     "output_type": "stream",
     "text": [
      "F1 Score: 0.6175709745410882\n"
     ]
    },
    {
     "name": "stderr",
     "output_type": "stream",
     "text": [
      "                                                                                \r"
     ]
    }
   ],
   "source": [
    "predictions = cv_model.transform(reviews_test)\n",
    "\n",
    "f1_score = evaluator.evaluate(predictions)\n",
    "print(f\"F1 Score: {f1_score}\")"
   ]
  },
  {
   "cell_type": "code",
   "execution_count": 34,
   "id": "fde8336d-935f-4434-b584-5100cb041d2f",
   "metadata": {
    "tags": []
   },
   "outputs": [],
   "source": [
    "spark.stop()"
   ]
  },
  {
   "cell_type": "code",
   "execution_count": null,
   "id": "84a461ea-ddf6-4253-b67b-1ec3ed58c095",
   "metadata": {},
   "outputs": [],
   "source": []
  }
 ],
 "metadata": {
  "kernelspec": {
   "display_name": "Python 3 (DIC24)",
   "language": "python",
   "name": "python3_dic24"
  },
  "language_info": {
   "codemirror_mode": {
    "name": "ipython",
    "version": 3
   },
   "file_extension": ".py",
   "mimetype": "text/x-python",
   "name": "python",
   "nbconvert_exporter": "python",
   "pygments_lexer": "ipython3",
   "version": "3.9.18"
  }
 },
 "nbformat": 4,
 "nbformat_minor": 5
}
