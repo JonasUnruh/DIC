{
 "cells": [
  {
   "cell_type": "markdown",
   "id": "66f28b29-a5ed-4fde-8842-7b7884de80ea",
   "metadata": {
    "tags": []
   },
   "source": [
    "## Part 2 Datasets/DataFrames: Spark ML and Pipelines\n",
    "Convert the review texts to a classic vector space representation with TFIDF-weighted features based on the Spark DataFrame/Dataset API by building a transformation pipeline. The primary goal of this part is the preparation of the pipeline for Part 3 (see below). Note: although parts of this pipeline will be very similar to Assignment 1 or Part 1 above, do not expect to obtain identical results or have access to all intermediate outputs to compare the individual steps.\n",
    "\n",
    "Use built-in functions for tokenization to unigrams at whitespaces, tabs, digits, and the delimiter characters ()[]{}.!?,;:+=-_\"'`~#@&*%€$§\\/, casefolding, stopword removal, TF-IDF calculation, and chi square selection ) (using 2000 top terms overall). Write the terms selected this way to a file output_ds.txt and compare them with the terms selected in Assignment 1. Describe your observations briefly in the submission report (see Part 3).\n",
    "\n",
    "[Provided link for ML pipeline](https://spark.apache.org/docs/latest/ml-pipeline.html)  \n",
    "[Provided link for feature extraction](https://spark.apache.org/docs/latest/ml-features.html)"
   ]
  },
  {
   "cell_type": "markdown",
   "id": "506c5014-586e-4207-a1ee-4ae70578a208",
   "metadata": {},
   "source": [
    "## Imports"
   ]
  },
  {
   "cell_type": "code",
   "execution_count": 1,
   "id": "5c8870c8-86f0-4b27-bb23-897de467d592",
   "metadata": {
    "tags": []
   },
   "outputs": [],
   "source": [
    "from pyspark import SparkContext, SparkConf\n",
    "from pyspark.sql import SparkSession\n",
    "\n",
    "from pyspark.ml import Pipeline\n",
    "from pyspark.ml.feature import StopWordsRemover\n",
    "from pyspark.ml.feature import HashingTF, IDF, Tokenizer\n",
    "\n",
    "from pyspark.ml.feature import Tokenizer, RegexTokenizer\n",
    "from pyspark.sql.functions import col, udf\n",
    "from pyspark.sql.types import IntegerType\n",
    "\n",
    "from pyspark.ml.feature import ChiSqSelector\n",
    "from pyspark.ml.linalg import Vectors\n",
    "\n",
    "from pyspark.ml.feature import StringIndexer\n",
    "from pyspark.ml.feature import CountVectorizer\n",
    "from pyspark.ml.feature import UnivariateFeatureSelector, ChiSqSelectorModel \n",
    "from pyspark.sql import Row\n",
    "\n",
    "from pyspark.ml.classification import LinearSVC\n",
    "from pyspark.ml.evaluation import MulticlassClassificationEvaluator\n",
    "from pyspark.ml.tuning import ParamGridBuilder, CrossValidator, TrainValidationSplit\n",
    "from pyspark.ml.classification import LogisticRegression, OneVsRest\n",
    "from pyspark.ml.evaluation import MulticlassClassificationEvaluator\n",
    "\n",
    "from pyspark.ml.feature import Normalizer, VectorSlicer\n",
    "\n",
    "from datetime import datetime"
   ]
  },
  {
   "cell_type": "code",
   "execution_count": 2,
   "id": "c4f196c8-c091-4a8c-9b1e-0cf1889e3578",
   "metadata": {
    "tags": []
   },
   "outputs": [],
   "source": [
    "import warnings\n",
    "warnings.filterwarnings(action='once')"
   ]
  },
  {
   "cell_type": "markdown",
   "id": "2338b89d-b829-47f2-b8a4-41237bf548e0",
   "metadata": {},
   "source": [
    "## Initiliaze Spark"
   ]
  },
  {
   "cell_type": "code",
   "execution_count": 3,
   "id": "473068a3-f3cf-43f7-853b-caaede739ac6",
   "metadata": {
    "tags": []
   },
   "outputs": [
    {
     "name": "stderr",
     "output_type": "stream",
     "text": [
      "SLF4J: Class path contains multiple SLF4J bindings."
     ]
    }
   ],
   "source": [
    "# Initialize Spark context and session\n",
    "conf = SparkConf().setAppName(\"Part2\")\n",
    "sc = SparkContext(conf=conf)\n",
    "spark = SparkSession(sc)"
   ]
  },
  {
   "cell_type": "code",
   "execution_count": 4,
   "id": "a1b857ce-e484-4d92-991e-0b3c71d1ef7f",
   "metadata": {
    "tags": []
   },
   "outputs": [
    {
     "data": {
      "text/html": [
       "\n",
       "            <div>\n",
       "                <p><b>SparkSession - in-memory</b></p>\n",
       "                \n",
       "        <div>\n",
       "            <p><b>SparkContext</b></p>\n",
       "\n",
       "            <p><a href=\"http://jupyter01.os.hpc.tuwien.ac.at:4040\">Spark UI</a></p>\n",
       "\n",
       "            <dl>\n",
       "              <dt>Version</dt>\n",
       "                <dd><code>v3.2.3</code></dd>\n",
       "              <dt>Master</dt>\n",
       "                <dd><code>yarn</code></dd>\n",
       "              <dt>AppName</dt>\n",
       "                <dd><code>Part2</code></dd>\n",
       "            </dl>\n",
       "        </div>\n",
       "        \n",
       "            </div>\n",
       "        "
      ],
      "text/plain": [
       "<pyspark.sql.session.SparkSession at 0x7fd3644d0d00>"
      ]
     },
     "execution_count": 4,
     "metadata": {},
     "output_type": "execute_result"
    }
   ],
   "source": [
    "spark"
   ]
  },
  {
   "cell_type": "markdown",
   "id": "abadc07e-77eb-48cb-8b6f-f444c7362aa1",
   "metadata": {},
   "source": [
    "### Importing data\n",
    "Stopwords file as well as test data"
   ]
  },
  {
   "cell_type": "code",
   "execution_count": 5,
   "id": "0ee8fe45-dfdb-40c4-b0b6-727c45252da3",
   "metadata": {
    "tags": []
   },
   "outputs": [],
   "source": [
    "# Define the stopwords file and the counters file\n",
    "stopwords_file = \"stopwords.txt\"\n",
    "\n",
    "# Load stopwords into a set\n",
    "with open(stopwords_file, \"r\") as f:\n",
    "    stopwords = set(f.read().strip().split())\n",
    "    \n",
    "# Load and preprocess the Amazon reviews dataset\n",
    "input_file = \"hdfs:///user/dic24_shared/amazon-reviews/full/reviews_devset.json\"\n",
    "reviews_df = spark.read.json(input_file)"
   ]
  },
  {
   "cell_type": "code",
   "execution_count": 6,
   "id": "d527f40f-3aa7-4e2e-84c4-c0761ddb096e",
   "metadata": {
    "tags": []
   },
   "outputs": [
    {
     "name": "stdout",
     "output_type": "stream",
     "text": [
      "+--------------------+--------------------+\n",
      "|            category|          reviewText|\n",
      "+--------------------+--------------------+\n",
      "|Patio_Lawn_and_Garde|This was a gift f...|\n",
      "|Patio_Lawn_and_Garde|This is a very ni...|\n",
      "|Patio_Lawn_and_Garde|The metal base wi...|\n",
      "|Patio_Lawn_and_Garde|For the most part...|\n",
      "|Patio_Lawn_and_Garde|This hose is supp...|\n",
      "|Patio_Lawn_and_Garde|This tool works v...|\n",
      "|Patio_Lawn_and_Garde|This product is a...|\n",
      "|Patio_Lawn_and_Garde|I was excited to ...|\n",
      "|Patio_Lawn_and_Garde|I purchased the L...|\n",
      "|Patio_Lawn_and_Garde|Never used a manu...|\n",
      "|Patio_Lawn_and_Garde|Good price. Good ...|\n",
      "|Patio_Lawn_and_Garde|I have owned the ...|\n",
      "|Patio_Lawn_and_Garde|I had \"won\" a sim...|\n",
      "|Patio_Lawn_and_Garde|The birds ate all...|\n",
      "|Patio_Lawn_and_Garde|Bought last summe...|\n",
      "|Patio_Lawn_and_Garde|I knew I had a mo...|\n",
      "|Patio_Lawn_and_Garde|I was a little wo...|\n",
      "|Patio_Lawn_and_Garde|I have used this ...|\n",
      "|Patio_Lawn_and_Garde|I actually do not...|\n",
      "|Patio_Lawn_and_Garde|Just what I  expe...|\n",
      "+--------------------+--------------------+\n",
      "only showing top 20 rows\n",
      "\n"
     ]
    }
   ],
   "source": [
    "reviews_df = reviews_df.select(\"category\", \"reviewText\")\n",
    "\n",
    "# Show the DataFrame with selected columns\n",
    "reviews_df.show()"
   ]
  },
  {
   "cell_type": "markdown",
   "id": "3c9a960f-e270-441c-8ac3-459f7651f821",
   "metadata": {},
   "source": [
    "## Create RegexTokenizer"
   ]
  },
  {
   "cell_type": "code",
   "execution_count": 7,
   "id": "018993a2-4daa-4020-a15a-1f755d9e97f7",
   "metadata": {
    "tags": []
   },
   "outputs": [],
   "source": [
    "pattern = r'\\s+|\\d+|[(){}\\[\\].!?,;:+=_\"\\'`~#@&*%€$§\\\\/\\-]'\n",
    "regexTokenizer = RegexTokenizer(inputCol=\"reviewText\", outputCol=\"words\", pattern=pattern)"
   ]
  },
  {
   "cell_type": "markdown",
   "id": "24675b04-1bd4-434d-81d7-4d021541c386",
   "metadata": {},
   "source": [
    "## Create StopWordsRemover"
   ]
  },
  {
   "cell_type": "code",
   "execution_count": 8,
   "id": "a935c1f3-84b4-478f-a6fb-b4718df9e7c7",
   "metadata": {
    "tags": []
   },
   "outputs": [],
   "source": [
    "remover = StopWordsRemover(stopWords = list(stopwords), inputCol=\"words\", outputCol=\"filtered_words\")\n"
   ]
  },
  {
   "cell_type": "markdown",
   "id": "2f995c64-2f56-43ce-8361-053506eff072",
   "metadata": {},
   "source": [
    "## Create CountVectorizer"
   ]
  },
  {
   "cell_type": "code",
   "execution_count": 9,
   "id": "a51d02b4-d9b5-444a-982a-a35605ea1440",
   "metadata": {
    "tags": []
   },
   "outputs": [],
   "source": [
    "#hashingTF = HashingTF(inputCol=\"filtered_words\", outputCol=\"rawFeatures\")\n",
    "countV = CountVectorizer(inputCol=\"filtered_words\", outputCol=\"rawFeatures\").setMinTF(1).setMinDF(3).setVocabSize(7500)\n"
   ]
  },
  {
   "cell_type": "markdown",
   "id": "e86ae8be-1adb-4678-8734-9a58adbaea36",
   "metadata": {},
   "source": [
    "## Create IDF model"
   ]
  },
  {
   "cell_type": "code",
   "execution_count": 10,
   "id": "939ee103-64d4-4175-8e00-32352ee5d453",
   "metadata": {
    "tags": []
   },
   "outputs": [],
   "source": [
    "idf = IDF(inputCol=\"rawFeatures\", outputCol=\"features\")\n"
   ]
  },
  {
   "cell_type": "markdown",
   "id": "760c3fcc-5a87-4ed9-9a94-76e373521982",
   "metadata": {},
   "source": [
    "## Create StringIndexer"
   ]
  },
  {
   "cell_type": "code",
   "execution_count": 11,
   "id": "623e43a1-b476-459a-820a-328b88c5cea8",
   "metadata": {
    "tags": []
   },
   "outputs": [],
   "source": [
    "# Apply StringIndexer to convert categorical column to numerical\n",
    "indexer = StringIndexer(inputCol=\"category\", outputCol=\"label\")\n"
   ]
  },
  {
   "cell_type": "markdown",
   "id": "c39ab712-7d3f-41d6-a524-a44c7fddf2ac",
   "metadata": {},
   "source": [
    "## Create Selector\n",
    "Here, we add a SelectionThreshold of 2000 to have the top 2000 terms overall."
   ]
  },
  {
   "cell_type": "code",
   "execution_count": 12,
   "id": "0bc18d5b-0676-400d-b052-7bef239683fa",
   "metadata": {
    "tags": []
   },
   "outputs": [
    {
     "data": {
      "text/plain": [
       "UnivariateFeatureSelector_f19ffa3b2272"
      ]
     },
     "execution_count": 12,
     "metadata": {},
     "output_type": "execute_result"
    }
   ],
   "source": [
    "selector = UnivariateFeatureSelector(\n",
    "    featuresCol=\"features\",outputCol=\"selectedFeatures\",\n",
    "    labelCol=\"label\",  selectionMode=\"numTopFeatures\",\n",
    ")\n",
    "selector.setFeatureType(\"categorical\").setLabelType(\"categorical\").setSelectionThreshold(2000)"
   ]
  },
  {
   "cell_type": "markdown",
   "id": "3d384dbc-28c3-4d5f-9cad-8c1ef079c20f",
   "metadata": {},
   "source": [
    "## Create Pipeline"
   ]
  },
  {
   "cell_type": "code",
   "execution_count": 13,
   "id": "da257682-1594-450c-b18f-29b3a328bf22",
   "metadata": {
    "tags": []
   },
   "outputs": [],
   "source": [
    "pipeline = Pipeline(stages=[regexTokenizer, remover, countV, idf, indexer, selector])"
   ]
  },
  {
   "cell_type": "code",
   "execution_count": 14,
   "id": "d434b0f7-6550-44fc-8646-f03ef8d590a7",
   "metadata": {
    "tags": []
   },
   "outputs": [],
   "source": [
    "model = pipeline.fit(reviews_df)"
   ]
  },
  {
   "cell_type": "code",
   "execution_count": 15,
   "id": "f2bcade8-b9d6-4f68-8da1-7f0df3981f3d",
   "metadata": {
    "tags": []
   },
   "outputs": [],
   "source": [
    "result = model.transform(reviews_df)"
   ]
  },
  {
   "cell_type": "code",
   "execution_count": 16,
   "id": "b3ff37f8-dcd5-497e-8bd9-2cf7372c5e98",
   "metadata": {
    "tags": []
   },
   "outputs": [
    {
     "name": "stdout",
     "output_type": "stream",
     "text": [
      "+--------------------------------------------------------------------------------------------------------------------------------------------------------------------------------------------------------------------------------------------------------------------------------------------------------------------------------------------------------------------------------------------------------------------------------------------------------------------------------------------------------------------------------------------------------------------------------------------------------------------------------------------------------------------------------------------------------------------------------------------------------------------------------------------------------------------------------------------------------------------------------------------------------------------------------------+\n",
      "|selectedFeatures                                                                                                                                                                                                                                                                                                                                                                                                                                                                                                                                                                                                                                                                                                                                                                                                                                                                                                                      |\n",
      "+--------------------------------------------------------------------------------------------------------------------------------------------------------------------------------------------------------------------------------------------------------------------------------------------------------------------------------------------------------------------------------------------------------------------------------------------------------------------------------------------------------------------------------------------------------------------------------------------------------------------------------------------------------------------------------------------------------------------------------------------------------------------------------------------------------------------------------------------------------------------------------------------------------------------------------------+\n",
      "|(2000,[2,3,7,8,35,118,145,150,176,233,341,632,759,822,915],[5.647911049617077,1.9101008238513324,2.487370675014457,2.5549148786410263,3.0958491156308683,3.7338964589176458,3.995040661169766,3.867124591494355,4.065708657451045,8.923208629086115,4.954280619803371,5.241962692255153,5.2112637053663455,5.414262690588088,5.491223731724216])                                                                                                                                                                                                                                                                                                                                                                                                                                                                                                                                                                                      |\n",
      "|(2000,[0,1,3,21,39,80,98,106,175,226,238,285,311,330,756,1006],[1.4305685420978582,1.593081231715938,1.9101008238513324,2.741785542460222,3.0810958904902117,3.645558997659959,3.661230229245325,3.724387670948618,4.06941373764359,4.244191437937833,4.60682066563655,8.72262312678854,8.978922538092048,4.747090996431403,5.332249538927253,5.745619826542531])                                                                                                                                                                                                                                                                                                                                                                                                                                                                                                                                                                     |\n",
      "|(2000,[4,10,174,330,572,602,748,904,1214,1277,1835,1926],[2.443044982797683,2.6102981582801017,4.096503430290254,4.747090996431403,4.968773627105938,10.322733468443445,5.222959745129537,5.454965983701592,5.811217109028344,12.681149961846524,6.6116098199418865,6.809140795399371])                                                                                                                                                                                                                                                                                                                                                                                                                                                                                                                                                                                                                                               |\n",
      "|(2000,[1,3,4,9,10,18,43,51,93,138,206,378,1332],[1.593081231715938,1.9101008238513324,2.443044982797683,2.488439458992828,2.6102981582801017,2.6986438630058704,3.1676301023339795,3.297423815269361,3.949241411458181,3.8496910270268025,4.382407272881865,4.842108821314774,11.983690370631932])                                                                                                                                                                                                                                                                                                                                                                                                                                                                                                                                                                                                                                    |\n",
      "|(2000,[12,29,101,196,227,253,887,1277],[2.6270029142189544,2.9968746231102164,3.8059650291327194,4.084372879721746,4.250399883600317,4.24684748199595,5.375151560471463,12.681149961846524])                                                                                                                                                                                                                                                                                                                                                                                                                                                                                                                                                                                                                                                                                                                                          |\n",
      "|(2000,[0,3,4,8,11,18,38,80,100,138,244,264,330,336,351,354,362,365,420,427,428,702,729,968,972,977,984,1141,1148,1321,1448,1480,1539,1545,1656,1881],[1.4305685420978582,1.9101008238513324,2.443044982797683,2.5549148786410263,2.643277817930281,2.6986438630058704,3.0899774365216715,3.645558997659959,3.724387670948618,3.8496910270268025,4.252180827971312,4.35932546542264,4.747090996431403,4.474878845751754,4.52863678548058,4.653643262289819,13.752619909906173,9.198451384838211,5.050490484778594,9.508855572990516,19.68967807093755,11.294855600726633,38.814643917562655,11.224176867836016,5.753587996191707,5.6655771188689945,11.245119467570607,5.937510834352636,6.139250477003692,6.071042226977158,6.115993614839425,6.206144711833723,6.430861827595362,6.193644549069491,6.753260337004914,6.856208306257356])                                                                                             |\n",
      "|(2000,[18,112,175,217,354,376,436,495,823,873,972,1043,1136,1240,1308,1425],[8.095931589017612,3.923249044996177,8.13882747528718,4.231888998065614,4.653643262289819,4.658983728921137,4.761818803141646,10.173569581942727,5.5712664393977525,5.414262690588088,5.753587996191707,6.145150199130881,5.858948511849534,5.923190780577888,6.11026294013044,6.169103440153373])                                                                                                                                                                                                                                                                                                                                                                                                                                                                                                                                                        |\n",
      "|(2000,[6,21,32,36,59,200,203,217,567,637,690,720,856,864,1005,1178,1324,1801,1873],[2.550516402868474,2.741785542460222,3.039953416795597,3.027566909768261,3.409093500120452,4.094217715009398,4.1080110371417335,12.695666994196841,5.097104800003354,5.070491151485264,5.23479420277654,5.135164361827699,5.411417738455857,5.369687065999384,5.564621896679085,5.828311542387644,6.284616327275217,27.52239903752606,6.7211720224534135])                                                                                                                                                                                                                                                                                                                                                                                                                                                                                         |\n",
      "|(2000,[3,4,5,6,40,49,53,56,77,114,152,191,199,206,269,417,445,519,642,835,1997],[7.64040329540533,2.443044982797683,2.3660839416615547,2.550516402868474,15.871403354911113,3.2138775543630334,3.1538656719751255,3.3046540068625245,10.637259719230418,3.7175760124392077,8.5348966002042,8.317309539920977,12.340280733344299,4.382407272881865,4.358333893700345,4.649656546045998,4.767771201668942,4.855053985906811,5.050490484778594,5.437318466888014,6.918340087364363])                                                                                                                                                                                                                                                                                                                                                                                                                                                     |\n",
      "|(2000,[6,8,38,78,264,714,838,1099,1932],[2.550516402868474,2.5549148786410263,3.0899774365216715,3.5300461105381147,4.35932546542264,5.327013924873308,5.361545908415684,5.729871469574391,7.180704351831853])                                                                                                                                                                                                                                                                                                                                                                                                                                                                                                                                                                                                                                                                                                                        |\n",
      "|(2000,[1,13,226],[3.186162463431876,2.659821982366351,4.244191437937833])                                                                                                                                                                                                                                                                                                                                                                                                                                                                                                                                                                                                                                                                                                                                                                                                                                                             |\n",
      "|(2000,[5,17,33,40,44,45,78,100,111,112,129,162,178,209,229,272,282,311,328,330,388,468,496,582,627,643,672,680,729,752,784,1141,1240,1394,1418,1580,1634,1750,1791,1961],[2.3660839416615547,2.8501903338405126,6.3238436196643475,3.1742806709822227,3.1568418646481717,3.441844965412896,3.5300461105381147,3.724387670948618,3.725439748899422,3.923249044996177,3.8157100188336583,16.04968125231885,8.116678854688992,4.171726851527842,4.210289886262152,4.32999785032812,4.421749820867876,4.489461269046024,4.609365196271545,4.747090996431403,4.840502395266501,4.936454835850771,4.990914752983152,5.002171907507786,5.097104800003354,5.0624428183024355,5.296163149152832,5.276112352107271,5.544949131080379,5.278596825434933,5.296163149152832,5.937510834352636,5.923190780577888,6.3052356144779536,12.99185084188485,6.277836640289839,13.042917445895178,14.140712589325975,13.261316029825162,6.893022279380072])|\n",
      "|(2000,[1,11,28,35,50,53,57,60,170,174,177,185,226,363,860,1392,1675,1865],[1.593081231715938,5.286555635860562,5.877796195866582,3.0958491156308683,3.290926955351027,3.1538656719751255,3.3036179162846033,3.5313456558802003,3.9964199717332716,4.096503430290254,3.9407195637534174,4.053943815871458,4.244191437937833,4.778273923868092,5.672930093174253,6.060113156444968,6.392246991467583,6.690081435383382])                                                                                                                                                                                                                                                                                                                                                                                                                                                                                                                |\n",
      "|(2000,[40,144,339,1406],[6.348561341964445,3.8750393968912618,4.4951270065817015,6.284616327275217])                                                                                                                                                                                                                                                                                                                                                                                                                                                                                                                                                                                                                                                                                                                                                                                                                                  |\n",
      "|(2000,[0,3,7,9,11,27,38,40,52,68,71,264,440,507,545,838,1004,1176,1205,1382,1645,1737],[2.8611370841957164,1.9101008238513324,2.487370675014457,2.488439458992828,2.643277817930281,2.9981454327868966,3.0899774365216715,3.1742806709822227,3.269014735304945,3.4606492802494673,3.540927610725649,13.077976396267921,4.795004352127301,5.034773068883184,4.936454835850771,10.723091816831367,5.584689459729893,11.656623084775289,5.850098896572551,18.543896139741577,6.556550042758859,26.9270165271358])                                                                                                                                                                                                                                                                                                                                                                                                                        |\n",
      "|(2000,[8,26,57,80,84,116,117,126,153,195,221,223,278,308,317,319,361,503,515,597,696,699,943,1240,1324,1912,1925],[2.5549148786410263,2.950712581347054,3.3036179162846033,3.645558997659959,3.6149345948800256,3.8197504283706634,3.837253792382022,3.8168627567134665,4.029393846459419,12.314788111812978,4.165986778366782,4.219736070714202,4.325192459053182,4.590437186386026,4.4517627916982665,4.477108501079023,9.129051609203051,4.824578491909778,4.886487508508324,39.02223738464287,5.128719656385057,5.454965983701592,5.500497368509546,5.923190780577888,6.284616327275217,7.012369037012639,41.35813367628043])                                                                                                                                                                                                                                                                                                     |\n",
      "|(2000,[1,15,120,127,953,1106],[1.593081231715938,2.7441500755816044,3.8550689903921187,3.7323053686854037,5.567938649305078,5.918462639381941])                                                                                                                                                                                                                                                                                                                                                                                                                                                                                                                                                                                                                                                                                                                                                                                       |\n",
      "|(2000,[2,3,221,267,458,1661,1868],[1.8826370165390258,1.9101008238513324,4.165986778366782,4.316600520756299,5.086784790971364,6.479258368457213,7.164175049880643])                                                                                                                                                                                                                                                                                                                                                                                                                                                                                                                                                                                                                                                                                                                                                                  |\n",
      "|(2000,[4,10,16,20,21,24,35,40,103,114,117,134,144,163,170,224,348,698,1051,1114,1340,1378,1382,1416,1453,1701],[2.443044982797683,5.220596316560203,2.7429671101439657,8.334175289865708,2.741785542460222,2.84493982954483,3.0958491156308683,3.1742806709822227,3.649941765815054,3.7175760124392077,3.837253792382022,3.755356509937415,3.8750393968912618,3.969860698660917,3.9964199717332716,4.1733729424345105,4.672461021864617,5.150365523159749,5.737714647035418,6.028024841893468,5.961842935012166,6.017553542026173,6.181298713247192,12.846037300268673,6.115993614839425,6.430861827595362])                                                                                                                                                                                                                                                                                                                          |\n",
      "|(2000,[0,18,30,42,148,176],[1.4305685420978582,2.6986438630058704,2.9775053846976705,3.251496521649606,3.823807229066278,4.065708657451045])                                                                                                                                                                                                                                                                                                                                                                                                                                                                                                                                                                                                                                                                                                                                                                                          |\n",
      "+--------------------------------------------------------------------------------------------------------------------------------------------------------------------------------------------------------------------------------------------------------------------------------------------------------------------------------------------------------------------------------------------------------------------------------------------------------------------------------------------------------------------------------------------------------------------------------------------------------------------------------------------------------------------------------------------------------------------------------------------------------------------------------------------------------------------------------------------------------------------------------------------------------------------------------------+\n",
      "only showing top 20 rows\n",
      "\n"
     ]
    }
   ],
   "source": [
    "result.select(\"selectedFeatures\").show(truncate=False)"
   ]
  },
  {
   "cell_type": "code",
   "execution_count": null,
   "id": "f7497cd3-5a01-4a5e-8d72-96a06c8770e4",
   "metadata": {},
   "outputs": [],
   "source": []
  },
  {
   "cell_type": "markdown",
   "id": "43cf8864-ee28-4c1e-8385-7755946fabee",
   "metadata": {},
   "source": [
    "## Get top 2000 terms"
   ]
  },
  {
   "cell_type": "code",
   "execution_count": 17,
   "id": "0fbaffe6-c201-4c37-bea8-cca0414943cc",
   "metadata": {
    "tags": []
   },
   "outputs": [],
   "source": [
    "# Extract vocabulary from CountVectorizer\n",
    "vocabulary = model.stages[2].vocabulary\n",
    "\n",
    "# Map selected feature indices to terms\n",
    "selected_terms = [vocabulary[i] for i in model.stages[-1].selectedFeatures]"
   ]
  },
  {
   "cell_type": "code",
   "execution_count": 18,
   "id": "17a0630f-b8aa-4486-bc8f-02879a6439f4",
   "metadata": {
    "tags": []
   },
   "outputs": [
    {
     "data": {
      "text/plain": [
       "2000"
      ]
     },
     "execution_count": 18,
     "metadata": {},
     "output_type": "execute_result"
    }
   ],
   "source": [
    "len(selected_terms)"
   ]
  },
  {
   "cell_type": "code",
   "execution_count": 19,
   "id": "796e0a6e-2af6-4bfe-a982-517b0074d973",
   "metadata": {
    "tags": []
   },
   "outputs": [
    {
     "data": {
      "text/plain": [
       "False"
      ]
     },
     "execution_count": 19,
     "metadata": {},
     "output_type": "execute_result"
    }
   ],
   "source": [
    "vocabulary[:30] == selected_terms[:30]"
   ]
  },
  {
   "cell_type": "code",
   "execution_count": 20,
   "id": "f65c8969-7816-4a5a-aed4-9c58fc81d2cd",
   "metadata": {
    "tags": []
   },
   "outputs": [
    {
     "data": {
      "text/plain": [
       "list"
      ]
     },
     "execution_count": 20,
     "metadata": {},
     "output_type": "execute_result"
    }
   ],
   "source": [
    "type(selected_terms)"
   ]
  },
  {
   "cell_type": "code",
   "execution_count": 21,
   "id": "8b1e266b-6ec9-44e3-afa8-e70e028c01f7",
   "metadata": {
    "tags": []
   },
   "outputs": [],
   "source": [
    "with open(\"output_ds.txt\", \"w\") as f:\n",
    "    for term in selected_terms:\n",
    "        f.write(term + \"\\n\")"
   ]
  },
  {
   "cell_type": "markdown",
   "id": "7c7210c9-6722-44af-a2bd-89e03b8e1558",
   "metadata": {},
   "source": [
    "# Part 3"
   ]
  },
  {
   "cell_type": "markdown",
   "id": "9deb93d7-f349-4b74-a96a-f10ec90d8844",
   "metadata": {},
   "source": [
    "In this part, you will train a text classifier from the features extracted in Part 2. The goal is to learn a model that can predict the product category from a review's text.\n",
    "\n",
    "To this end, extend the pipeline from Part 2 such that a Support Vector Machine classifier is trained. Since we are dealing with multi-class problems, make sure to put a strategy in place that allows binary classifiers to be applicable. Apply vector length normalization before feeding the feature vectors into the classifier (use Normalizer with L2 norm).\n",
    "\n",
    "Follow best practices for machine learning experiment design and investigate the effects of parameter settings using the functions provided by Spark:\n",
    "\n",
    "- Split the review data into training, validation, and test set.\n",
    "\n",
    "- Make experiments reproducible.\n",
    "\n",
    "- Use a grid search for parameter optimization:\n",
    "\n",
    "- Compare chi square overall top 2000 filtered features with another, heavier filtering with much less dimensionality (see Spark ML documentation for options).\n",
    "\n",
    "- Compare different SVM settings by varying the regularization parameter (choose 3 different values), standardization of training features (2 values), and maximum number of iterations (2 values).\n",
    "\n",
    "Use the MulticlassClassificationEvaluator to estimate performance of your trained classifiers on the test set, using F1 measure as criterion."
   ]
  },
  {
   "cell_type": "markdown",
   "id": "e4caf75d-dc98-4bd9-a434-5c4bc2470812",
   "metadata": {},
   "source": [
    "## Split into Train/Test/Val and set seed"
   ]
  },
  {
   "cell_type": "code",
   "execution_count": 22,
   "id": "c01a7465-d759-4da1-af46-19adfa162dea",
   "metadata": {
    "tags": []
   },
   "outputs": [],
   "source": [
    "(reviews_train, reviews_test) = reviews_df.randomSplit([0.7, 0.3], 123)"
   ]
  },
  {
   "cell_type": "code",
   "execution_count": 23,
   "id": "54a58973-e718-4983-9b41-b88bdd677a91",
   "metadata": {
    "tags": []
   },
   "outputs": [
    {
     "data": {
      "text/plain": [
       "55211"
      ]
     },
     "execution_count": 23,
     "metadata": {},
     "output_type": "execute_result"
    }
   ],
   "source": [
    "reviews_train.count()"
   ]
  },
  {
   "cell_type": "code",
   "execution_count": 24,
   "id": "4b22113d-22e2-4c75-870d-df2f5838cf2f",
   "metadata": {
    "tags": []
   },
   "outputs": [
    {
     "data": {
      "text/plain": [
       "23618"
      ]
     },
     "execution_count": 24,
     "metadata": {},
     "output_type": "execute_result"
    }
   ],
   "source": [
    "reviews_test.count()"
   ]
  },
  {
   "cell_type": "markdown",
   "id": "082d31d5-3c03-4887-b1a2-fbe4d688d637",
   "metadata": {},
   "source": [
    "## Extend Pipeline"
   ]
  },
  {
   "cell_type": "code",
   "execution_count": 25,
   "id": "4888a1db-c5bc-42e8-ad6f-7e495d44f68f",
   "metadata": {
    "tags": []
   },
   "outputs": [],
   "source": [
    "normalizer = Normalizer(inputCol=\"selectedFeatures\", outputCol=\"normalized_features\")"
   ]
  },
  {
   "cell_type": "code",
   "execution_count": 26,
   "id": "04946272-689b-4ff5-909f-855a0a212ca2",
   "metadata": {
    "tags": []
   },
   "outputs": [],
   "source": [
    "#scaler = StandardScaler(inputCol=\"normalized_features\", outputCol=\"scaled_features\", withMean=False)"
   ]
  },
  {
   "cell_type": "code",
   "execution_count": 27,
   "id": "732a8206-5357-491c-8fab-beb380ff7210",
   "metadata": {
    "tags": []
   },
   "outputs": [],
   "source": [
    "svm = LinearSVC(featuresCol=\"normalized_features\")\n",
    "ovr = OneVsRest(classifier=svm)"
   ]
  },
  {
   "cell_type": "code",
   "execution_count": 28,
   "id": "f43085d0-3833-45e8-be5b-7585da3c5649",
   "metadata": {
    "tags": []
   },
   "outputs": [],
   "source": [
    "extended_pipeline = Pipeline(stages=[regexTokenizer, remover, countV, idf, indexer, selector, normalizer, ovr])"
   ]
  },
  {
   "cell_type": "markdown",
   "id": "2b87a460-9ecb-4e85-ae1d-8b0a4fbe886a",
   "metadata": {},
   "source": [
    "## Define Evaluator"
   ]
  },
  {
   "cell_type": "code",
   "execution_count": 29,
   "id": "ba203222-7590-42ce-a2d3-72bc825fe85f",
   "metadata": {
    "tags": []
   },
   "outputs": [],
   "source": [
    "evaluator = MulticlassClassificationEvaluator(metricName=\"f1\")"
   ]
  },
  {
   "cell_type": "markdown",
   "id": "fabb4d40-e73d-4910-9046-ac5e7d4fa092",
   "metadata": {},
   "source": [
    "## Perform Grid Search using different SVM settings"
   ]
  },
  {
   "cell_type": "markdown",
   "id": "52d4e8a3-cadd-4b76-9af9-1b9e5db30968",
   "metadata": {},
   "source": [
    "Create a param grid to train and evaluate pipeline. Use TrainValidationSplit for single model per combination."
   ]
  },
  {
   "cell_type": "code",
   "execution_count": 30,
   "id": "bbcdb0b5-fa05-4633-8846-c9a3fe6503d4",
   "metadata": {
    "tags": []
   },
   "outputs": [],
   "source": [
    "param_grid = ParamGridBuilder() \\\n",
    "    .addGrid(svm.regParam, [0.1, 0.01, 0.001]) \\\n",
    "    .addGrid(svm.maxIter, [10, 20]) \\\n",
    "    .addGrid(svm.standardization, [True, False]) \\\n",
    "    .addGrid(selector.selectionThreshold, [2000, 250]) \\\n",
    "    .build()\n",
    "\n",
    "validator = TrainValidationSplit(estimator=extended_pipeline, estimatorParamMaps=param_grid, evaluator=evaluator, trainRatio = 0.7, parallelism = 4, seed=123)"
   ]
  },
  {
   "cell_type": "markdown",
   "id": "e7d1b34a-0801-4a13-9310-fc8ee9bcddda",
   "metadata": {},
   "source": [
    "Perform a grid search on a subset of the training data to approximate the best parameters."
   ]
  },
  {
   "cell_type": "code",
   "execution_count": null,
   "id": "2060737a-f82c-4b67-9f39-3caebeaf086a",
   "metadata": {
    "tags": []
   },
   "outputs": [
    {
     "name": "stderr",
     "output_type": "stream",
     "text": [
      "/usr/lib64/python3.9/socket.py:775: ResourceWarning: unclosed <socket.socket fd=70, family=AddressFamily.AF_INET, type=SocketKind.SOCK_STREAM, proto=6, laddr=('127.0.0.1', 46652), raddr=('127.0.0.1', 43167)>\n",
      "  self._sock = None\n",
      "ResourceWarning: Enable tracemalloc to get the object allocation traceback\n",
      "/usr/lib64/python3.9/socket.py:775: ResourceWarning: unclosed <socket.socket fd=71, family=AddressFamily.AF_INET, type=SocketKind.SOCK_STREAM, proto=6, laddr=('127.0.0.1', 44178), raddr=('127.0.0.1', 34201)>\n",
      "  self._sock = None\n",
      "ResourceWarning: Enable tracemalloc to get the object allocation traceback\n",
      "/usr/lib64/python3.9/socket.py:775: ResourceWarning: unclosed <socket.socket fd=72, family=AddressFamily.AF_INET, type=SocketKind.SOCK_STREAM, proto=6, laddr=('127.0.0.1', 51958), raddr=('127.0.0.1', 38479)>\n",
      "  self._sock = None\n",
      "ResourceWarning: Enable tracemalloc to get the object allocation traceback\n",
      "/usr/lib64/python3.9/socket.py:775: ResourceWarning: unclosed <socket.socket fd=80, family=AddressFamily.AF_INET, type=SocketKind.SOCK_STREAM, proto=6, laddr=('127.0.0.1', 51086), raddr=('127.0.0.1', 41889)>\n",
      "  self._sock = None\n",
      "ResourceWarning: Enable tracemalloc to get the object allocation traceback\n",
      "/usr/lib64/python3.9/multiprocessing/pool.py:265: ResourceWarning: unclosed running multiprocessing pool <multiprocessing.pool.ThreadPool state=RUN pool_size=1>\n",
      "  _warn(f\"unclosed running multiprocessing pool {self!r}\",\n",
      "ResourceWarning: Enable tracemalloc to get the object allocation traceback\n",
      "/usr/lib64/python3.9/socket.py:775: ResourceWarning: unclosed <socket.socket fd=71, family=AddressFamily.AF_INET, type=SocketKind.SOCK_STREAM, proto=6, laddr=('127.0.0.1', 49096), raddr=('127.0.0.1', 34417)>\n",
      "  self._sock = None\n",
      "ResourceWarning: Enable tracemalloc to get the object allocation traceback\n",
      "/usr/lib64/python3.9/socket.py:775: ResourceWarning: unclosed <socket.socket fd=71, family=AddressFamily.AF_INET, type=SocketKind.SOCK_STREAM, proto=6, laddr=('127.0.0.1', 51972), raddr=('127.0.0.1', 42497)>\n",
      "  self._sock = None\n",
      "ResourceWarning: Enable tracemalloc to get the object allocation traceback\n",
      "/usr/lib64/python3.9/socket.py:775: ResourceWarning: unclosed <socket.socket fd=71, family=AddressFamily.AF_INET, type=SocketKind.SOCK_STREAM, proto=6, laddr=('127.0.0.1', 35040), raddr=('127.0.0.1', 38825)>\n",
      "  self._sock = None\n",
      "ResourceWarning: Enable tracemalloc to get the object allocation traceback\n",
      "/usr/lib64/python3.9/socket.py:775: ResourceWarning: unclosed <socket.socket fd=82, family=AddressFamily.AF_INET, type=SocketKind.SOCK_STREAM, proto=6, laddr=('127.0.0.1', 44524), raddr=('127.0.0.1', 39607)>\n",
      "  self._sock = None\n",
      "ResourceWarning: Enable tracemalloc to get the object allocation traceback\n",
      "/usr/lib64/python3.9/socket.py:775: ResourceWarning: unclosed <socket.socket fd=74, family=AddressFamily.AF_INET, type=SocketKind.SOCK_STREAM, proto=6, laddr=('127.0.0.1', 58740), raddr=('127.0.0.1', 46405)>\n",
      "  self._sock = None\n",
      "ResourceWarning: Enable tracemalloc to get the object allocation traceback\n",
      "/usr/lib64/python3.9/socket.py:775: ResourceWarning: unclosed <socket.socket fd=71, family=AddressFamily.AF_INET, type=SocketKind.SOCK_STREAM, proto=6, laddr=('127.0.0.1', 40832), raddr=('127.0.0.1', 36445)>\n",
      "  self._sock = None\n",
      "ResourceWarning: Enable tracemalloc to get the object allocation traceback\n",
      "/usr/lib64/python3.9/socket.py:775: ResourceWarning: unclosed <socket.socket fd=71, family=AddressFamily.AF_INET, type=SocketKind.SOCK_STREAM, proto=6, laddr=('127.0.0.1', 41306), raddr=('127.0.0.1', 33071)>\n",
      "  self._sock = None\n",
      "ResourceWarning: Enable tracemalloc to get the object allocation traceback\n",
      "/usr/lib64/python3.9/socket.py:775: ResourceWarning: unclosed <socket.socket fd=82, family=AddressFamily.AF_INET, type=SocketKind.SOCK_STREAM, proto=6, laddr=('127.0.0.1', 51116), raddr=('127.0.0.1', 46441)>\n",
      "  self._sock = None\n",
      "ResourceWarning: Enable tracemalloc to get the object allocation traceback\n",
      "/usr/lib64/python3.9/socket.py:775: ResourceWarning: unclosed <socket.socket fd=71, family=AddressFamily.AF_INET, type=SocketKind.SOCK_STREAM, proto=6, laddr=('127.0.0.1', 53254), raddr=('127.0.0.1', 33971)>\n",
      "  self._sock = None\n",
      "ResourceWarning: Enable tracemalloc to get the object allocation traceback\n",
      "/usr/lib64/python3.9/socket.py:775: ResourceWarning: unclosed <socket.socket fd=76, family=AddressFamily.AF_INET, type=SocketKind.SOCK_STREAM, proto=6, laddr=('127.0.0.1', 59614), raddr=('127.0.0.1', 46253)>\n",
      "  self._sock = None\n",
      "ResourceWarning: Enable tracemalloc to get the object allocation traceback\n",
      "/usr/lib64/python3.9/socket.py:775: ResourceWarning: unclosed <socket.socket fd=76, family=AddressFamily.AF_INET, type=SocketKind.SOCK_STREAM, proto=6, laddr=('127.0.0.1', 53822), raddr=('127.0.0.1', 44605)>\n",
      "  self._sock = None\n",
      "ResourceWarning: Enable tracemalloc to get the object allocation traceback\n",
      "/usr/lib64/python3.9/socket.py:775: ResourceWarning: unclosed <socket.socket fd=82, family=AddressFamily.AF_INET, type=SocketKind.SOCK_STREAM, proto=6, laddr=('127.0.0.1', 57838), raddr=('127.0.0.1', 41181)>\n",
      "  self._sock = None\n",
      "ResourceWarning: Enable tracemalloc to get the object allocation traceback\n"
     ]
    }
   ],
   "source": [
    "subset_train = reviews_train.randomSplit([0.1, 0.9], 123)\n",
    "\n",
    "start_time = datetime.now()\n",
    "cv_model = validator.fit(subset_train[0])\n",
    "end_time = datetime.now()\n",
    "\n",
    "#predictions = cv_model.transform(reviews_test)\n",
    "\n",
    "#f1_score = evaluator.evaluate(predictions)\n",
    "#print(f\"F1 Score: {f1_score}\")"
   ]
  },
  {
   "cell_type": "code",
   "execution_count": null,
   "id": "047e3af8-3bc3-432c-9264-6e56d6398d5f",
   "metadata": {
    "tags": []
   },
   "outputs": [],
   "source": [
    "print(\"start time:\", start_time)\n",
    "print(\"end time:\", end_time)"
   ]
  },
  {
   "cell_type": "code",
   "execution_count": null,
   "id": "94dba137-acbe-4c7c-845d-8b362d4a8a76",
   "metadata": {
    "tags": []
   },
   "outputs": [],
   "source": [
    "# Get the best model\n",
    "bestModel = cv_model.bestModel\n",
    "\n",
    "# Show the best parameters\n",
    "print(\"Best Params:\")\n",
    "print(\"RegParam:\", bestModel.stages[-1].models[0].getOrDefault(\"regParam\"))\n",
    "print(\"MaxIter:\", bestModel.stages[-1].models[0].getOrDefault(\"maxIter\"))\n",
    "print(\"P value:\", bestModel.stages[-2].getOrDefault(\"p\"))\n",
    "print(\"P value:\", bestModel.stages[-3].getOrDefault(\"selectionThreshold\"))"
   ]
  },
  {
   "cell_type": "markdown",
   "id": "7cce1abe-f41d-40f7-acb7-21439c735b76",
   "metadata": {},
   "source": [
    "## Compare Chi Square with another filtering method"
   ]
  },
  {
   "cell_type": "code",
   "execution_count": null,
   "id": "1cdf2076-d330-4078-aaf2-d83217601a97",
   "metadata": {},
   "outputs": [],
   "source": []
  },
  {
   "cell_type": "code",
   "execution_count": null,
   "id": "bc9a0822-612b-4d09-aa1a-5f2a3ac0d4eb",
   "metadata": {},
   "outputs": [],
   "source": []
  },
  {
   "cell_type": "code",
   "execution_count": null,
   "id": "d3a3c2b5-4e37-4c34-9eea-a70f503ca209",
   "metadata": {},
   "outputs": [],
   "source": []
  },
  {
   "cell_type": "code",
   "execution_count": null,
   "id": "d8185a4a-c947-40e9-b808-9b062149b915",
   "metadata": {},
   "outputs": [],
   "source": []
  }
 ],
 "metadata": {
  "kernelspec": {
   "display_name": "Python 3 (DIC24)",
   "language": "python",
   "name": "python3_dic24"
  },
  "language_info": {
   "codemirror_mode": {
    "name": "ipython",
    "version": 3
   },
   "file_extension": ".py",
   "mimetype": "text/x-python",
   "name": "python",
   "nbconvert_exporter": "python",
   "pygments_lexer": "ipython3",
   "version": "3.9.18"
  }
 },
 "nbformat": 4,
 "nbformat_minor": 5
}
