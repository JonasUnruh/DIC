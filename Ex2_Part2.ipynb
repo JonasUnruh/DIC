{
 "cells": [
  {
   "cell_type": "markdown",
   "id": "66f28b29-a5ed-4fde-8842-7b7884de80ea",
   "metadata": {},
   "source": [
    "## Part 2 Datasets/DataFrames: Spark ML and Pipelines\n",
    "Convert the review texts to a classic vector space representation with TFIDF-weighted features based on the Spark DataFrame/Dataset API by building a transformation pipeline. The primary goal of this part is the preparation of the pipeline for Part 3 (see below). Note: although parts of this pipeline will be very similar to Assignment 1 or Part 1 above, do not expect to obtain identical results or have access to all intermediate outputs to compare the individual steps.\n",
    "\n",
    "Use built-in functions for tokenization to unigrams at whitespaces, tabs, digits, and the delimiter characters ()[]{}.!?,;:+=-_\"'`~#@&*%€$§\\/, casefolding, stopword removal, TF-IDF calculation, and chi square selection ) (using 2000 top terms overall). Write the terms selected this way to a file output_ds.txt and compare them with the terms selected in Assignment 1. Describe your observations briefly in the submission report (see Part 3).\n",
    "\n",
    "[Provided link for ML pipeline](https://spark.apache.org/docs/latest/ml-pipeline.html)  \n",
    "[Provided link for feature extraction](https://spark.apache.org/docs/latest/ml-features.html)"
   ]
  },
  {
   "cell_type": "code",
   "execution_count": 2,
   "id": "5c8870c8-86f0-4b27-bb23-897de467d592",
   "metadata": {
    "tags": []
   },
   "outputs": [],
   "source": [
    "from pyspark import SparkContext, SparkConf\n",
    "from pyspark.sql import SparkSession\n",
    "\n",
    "from pyspark.ml import Pipeline\n",
    "from pyspark.ml.feature import StopWordsRemover\n",
    "from pyspark.ml.feature import HashingTF, IDF, Tokenizer\n",
    "\n",
    "from pyspark.ml.feature import Tokenizer, RegexTokenizer\n",
    "from pyspark.sql.functions import col, udf\n",
    "from pyspark.sql.types import IntegerType\n",
    "\n",
    "from pyspark.ml.feature import ChiSqSelector\n",
    "from pyspark.ml.linalg import Vectors\n",
    "\n",
    "from pyspark.ml.feature import StringIndexer\n",
    "from pyspark.ml.feature import CountVectorizer\n",
    "from pyspark.ml.feature import UnivariateFeatureSelector, ChiSqSelectorModel \n",
    "\n"
   ]
  },
  {
   "cell_type": "code",
   "execution_count": 3,
   "id": "473068a3-f3cf-43f7-853b-caaede739ac6",
   "metadata": {
    "tags": []
   },
   "outputs": [
    {
     "name": "stderr",
     "output_type": "stream",
     "text": [
      "SLF4J: Class path contains multiple SLF4J bindings.\n",
      "SLF4J: Found binding in [jar:file:/usr/lib/spark/jars/slf4j-log4j12-1.7.30.jar!/org/slf4j/impl/StaticLoggerBinder.class]\n",
      "SLF4J: Found binding in [jar:file:/usr/lib/hadoop/lib/slf4j-reload4j-1.7.36.jar!/org/slf4j/impl/StaticLoggerBinder.class]\n",
      "SLF4J: See http://www.slf4j.org/codes.html#multiple_bindings for an explanation.\n",
      "SLF4J: Actual binding is of type [org.slf4j.impl.Log4jLoggerFactory]\n",
      "24/05/17 14:51:46 WARN NativeCodeLoader: Unable to load native-hadoop library for your platform... using builtin-java classes where applicable\n",
      "24/05/17 14:51:48 WARN Utils: Service 'SparkUI' could not bind on port 4040. Attempting port 4041.\n",
      "24/05/17 14:51:48 WARN Utils: Service 'SparkUI' could not bind on port 4041. Attempting port 4042.\n",
      "24/05/17 14:51:48 WARN Utils: Service 'SparkUI' could not bind on port 4042. Attempting port 4043.\n",
      "24/05/17 14:51:48 WARN Utils: Service 'SparkUI' could not bind on port 4043. Attempting port 4044.\n",
      "24/05/17 14:51:48 WARN Utils: Service 'SparkUI' could not bind on port 4044. Attempting port 4045.\n",
      "24/05/17 14:51:50 WARN Client: Neither spark.yarn.jars nor spark.yarn.archive is set, falling back to uploading libraries under SPARK_HOME.\n"
     ]
    }
   ],
   "source": [
    "# Initialize Spark context and session\n",
    "conf = SparkConf().setAppName(\"Part2\")\n",
    "sc = SparkContext(conf=conf)\n",
    "spark = SparkSession(sc)"
   ]
  },
  {
   "cell_type": "code",
   "execution_count": 4,
   "id": "a1b857ce-e484-4d92-991e-0b3c71d1ef7f",
   "metadata": {
    "tags": []
   },
   "outputs": [
    {
     "data": {
      "text/html": [
       "\n",
       "            <div>\n",
       "                <p><b>SparkSession - in-memory</b></p>\n",
       "                \n",
       "        <div>\n",
       "            <p><b>SparkContext</b></p>\n",
       "\n",
       "            <p><a href=\"http://jupyter01.os.hpc.tuwien.ac.at:4045\">Spark UI</a></p>\n",
       "\n",
       "            <dl>\n",
       "              <dt>Version</dt>\n",
       "                <dd><code>v3.2.3</code></dd>\n",
       "              <dt>Master</dt>\n",
       "                <dd><code>yarn</code></dd>\n",
       "              <dt>AppName</dt>\n",
       "                <dd><code>Part2</code></dd>\n",
       "            </dl>\n",
       "        </div>\n",
       "        \n",
       "            </div>\n",
       "        "
      ],
      "text/plain": [
       "<pyspark.sql.session.SparkSession at 0x7fdc8009e6a0>"
      ]
     },
     "execution_count": 4,
     "metadata": {},
     "output_type": "execute_result"
    }
   ],
   "source": [
    "spark"
   ]
  },
  {
   "cell_type": "markdown",
   "id": "abadc07e-77eb-48cb-8b6f-f444c7362aa1",
   "metadata": {},
   "source": [
    "### Importing data\n",
    "Stopwords file as well as test data"
   ]
  },
  {
   "cell_type": "code",
   "execution_count": 5,
   "id": "0ee8fe45-dfdb-40c4-b0b6-727c45252da3",
   "metadata": {
    "tags": []
   },
   "outputs": [
    {
     "name": "stderr",
     "output_type": "stream",
     "text": [
      "                                                                                \r"
     ]
    }
   ],
   "source": [
    "# Define the stopwords file and the counters file\n",
    "stopwords_file = \"stopwords.txt\"\n",
    "\n",
    "# Load stopwords into a set\n",
    "with open(stopwords_file, \"r\") as f:\n",
    "    stopwords = set(f.read().strip().split())\n",
    "    \n",
    "# Load and preprocess the Amazon reviews dataset\n",
    "input_file = \"hdfs:///user/dic24_shared/amazon-reviews/full/reviews_devset.json\"\n",
    "reviews_df = spark.read.json(input_file)"
   ]
  },
  {
   "cell_type": "code",
   "execution_count": 6,
   "id": "d527f40f-3aa7-4e2e-84c4-c0761ddb096e",
   "metadata": {
    "tags": []
   },
   "outputs": [
    {
     "name": "stdout",
     "output_type": "stream",
     "text": [
      "+--------------------+--------------------+\n",
      "|            category|          reviewText|\n",
      "+--------------------+--------------------+\n",
      "|Patio_Lawn_and_Garde|This was a gift f...|\n",
      "|Patio_Lawn_and_Garde|This is a very ni...|\n",
      "|Patio_Lawn_and_Garde|The metal base wi...|\n",
      "|Patio_Lawn_and_Garde|For the most part...|\n",
      "|Patio_Lawn_and_Garde|This hose is supp...|\n",
      "|Patio_Lawn_and_Garde|This tool works v...|\n",
      "|Patio_Lawn_and_Garde|This product is a...|\n",
      "|Patio_Lawn_and_Garde|I was excited to ...|\n",
      "|Patio_Lawn_and_Garde|I purchased the L...|\n",
      "|Patio_Lawn_and_Garde|Never used a manu...|\n",
      "|Patio_Lawn_and_Garde|Good price. Good ...|\n",
      "|Patio_Lawn_and_Garde|I have owned the ...|\n",
      "|Patio_Lawn_and_Garde|I had \"won\" a sim...|\n",
      "|Patio_Lawn_and_Garde|The birds ate all...|\n",
      "|Patio_Lawn_and_Garde|Bought last summe...|\n",
      "|Patio_Lawn_and_Garde|I knew I had a mo...|\n",
      "|Patio_Lawn_and_Garde|I was a little wo...|\n",
      "|Patio_Lawn_and_Garde|I have used this ...|\n",
      "|Patio_Lawn_and_Garde|I actually do not...|\n",
      "|Patio_Lawn_and_Garde|Just what I  expe...|\n",
      "+--------------------+--------------------+\n",
      "only showing top 20 rows\n",
      "\n"
     ]
    }
   ],
   "source": [
    "reviews_df = reviews_df.select(\"category\", \"reviewText\")\n",
    "\n",
    "# Show the DataFrame with selected columns\n",
    "reviews_df.show()"
   ]
  },
  {
   "cell_type": "code",
   "execution_count": 6,
   "id": "723b5b92-c7a9-4453-bb72-e92a3f7521e3",
   "metadata": {
    "tags": []
   },
   "outputs": [
    {
     "data": {
      "text/plain": [
       "[Row(category='Patio_Lawn_and_Garde', reviewText=\"This was a gift for my other husband.  He's making us things from it all the time and we love the food.  Directions are simple, easy to read and interpret, and fun to make.  We all love different kinds of cuisine and Raichlen provides recipes from everywhere along the barbecue trail as he calls it. Get it and just open a page.  Have at it.  You'll love the food and it has provided us with an insight into the culture that produced it. It's all about broadening horizons.  Yum!!\"),\n",
       " Row(category='Patio_Lawn_and_Garde', reviewText='This is a very nice spreader.  It feels very solid and the pneumatic tires give it great maneuverability and handling over bumps.  The control arm is solid metal, not a cable, which gives you precise control and will last a long time.  The settings take some experimentation with your various products to get it right, but that is true of any spreader.  It has good distribution... probably flings material a little farther on the right side than the left, but it is far more even than my crappy Edgeguard ever was.')]"
      ]
     },
     "execution_count": 6,
     "metadata": {},
     "output_type": "execute_result"
    }
   ],
   "source": [
    "# Show first two objects of reviews_rdd\n",
    "reviews_df.take(2)"
   ]
  },
  {
   "cell_type": "code",
   "execution_count": 8,
   "id": "018993a2-4daa-4020-a15a-1f755d9e97f7",
   "metadata": {
    "tags": []
   },
   "outputs": [],
   "source": [
    "pattern = r'\\s+|\\d+|[(){}\\[\\].!?,;:+=_\"\\'`~#@&*%€$§\\\\/\\-]'\n",
    "regexTokenizer = RegexTokenizer(inputCol=\"reviewText\", outputCol=\"words\", pattern=pattern)"
   ]
  },
  {
   "cell_type": "code",
   "execution_count": 8,
   "id": "b9a307cd-bf0f-49fb-8915-36cf8312b232",
   "metadata": {
    "tags": []
   },
   "outputs": [],
   "source": [
    "reviews_df = regexTokenizer.transform(reviews_df)"
   ]
  },
  {
   "cell_type": "code",
   "execution_count": 9,
   "id": "4fcafa32-7d27-4a63-ab95-bcd9b56185e6",
   "metadata": {
    "tags": []
   },
   "outputs": [
    {
     "data": {
      "text/plain": [
       "['category', 'reviewText', 'words']"
      ]
     },
     "execution_count": 9,
     "metadata": {},
     "output_type": "execute_result"
    }
   ],
   "source": [
    "reviews_df.columns"
   ]
  },
  {
   "cell_type": "code",
   "execution_count": 10,
   "id": "714cafaf-b8e6-423f-b60b-3f9ed1007950",
   "metadata": {
    "tags": []
   },
   "outputs": [
    {
     "name": "stderr",
     "output_type": "stream",
     "text": [
      "                                                                                \r"
     ]
    },
    {
     "data": {
      "text/plain": [
       "[Row(category='Patio_Lawn_and_Garde', reviewText=\"This was a gift for my other husband.  He's making us things from it all the time and we love the food.  Directions are simple, easy to read and interpret, and fun to make.  We all love different kinds of cuisine and Raichlen provides recipes from everywhere along the barbecue trail as he calls it. Get it and just open a page.  Have at it.  You'll love the food and it has provided us with an insight into the culture that produced it. It's all about broadening horizons.  Yum!!\", words=['this', 'was', 'a', 'gift', 'for', 'my', 'other', 'husband', 'he', 's', 'making', 'us', 'things', 'from', 'it', 'all', 'the', 'time', 'and', 'we', 'love', 'the', 'food', 'directions', 'are', 'simple', 'easy', 'to', 'read', 'and', 'interpret', 'and', 'fun', 'to', 'make', 'we', 'all', 'love', 'different', 'kinds', 'of', 'cuisine', 'and', 'raichlen', 'provides', 'recipes', 'from', 'everywhere', 'along', 'the', 'barbecue', 'trail', 'as', 'he', 'calls', 'it', 'get', 'it', 'and', 'just', 'open', 'a', 'page', 'have', 'at', 'it', 'you', 'll', 'love', 'the', 'food', 'and', 'it', 'has', 'provided', 'us', 'with', 'an', 'insight', 'into', 'the', 'culture', 'that', 'produced', 'it', 'it', 's', 'all', 'about', 'broadening', 'horizons', 'yum'])]"
      ]
     },
     "execution_count": 10,
     "metadata": {},
     "output_type": "execute_result"
    }
   ],
   "source": [
    "reviews_df.take(1)"
   ]
  },
  {
   "cell_type": "code",
   "execution_count": 11,
   "id": "5ddf7ecb-9a38-4923-a7e7-de238ad7a47a",
   "metadata": {
    "tags": []
   },
   "outputs": [
    {
     "data": {
      "text/plain": [
       "set"
      ]
     },
     "execution_count": 11,
     "metadata": {},
     "output_type": "execute_result"
    }
   ],
   "source": [
    "type(stopwords)"
   ]
  },
  {
   "cell_type": "code",
   "execution_count": 9,
   "id": "a935c1f3-84b4-478f-a6fb-b4718df9e7c7",
   "metadata": {
    "tags": []
   },
   "outputs": [],
   "source": [
    "remover = StopWordsRemover(stopWords = list(stopwords), inputCol=\"words\", outputCol=\"filtered_words\")\n"
   ]
  },
  {
   "cell_type": "code",
   "execution_count": null,
   "id": "a2150248-9cc8-4f53-b849-ab00c400af9f",
   "metadata": {},
   "outputs": [],
   "source": [
    "reviews_df = remover.transform(reviews_df)"
   ]
  },
  {
   "cell_type": "markdown",
   "id": "473b41b9-f418-438b-8be6-ffd2cb5882df",
   "metadata": {},
   "source": [
    "Add HashingTF HashingTermFrequency"
   ]
  },
  {
   "cell_type": "code",
   "execution_count": 10,
   "id": "a51d02b4-d9b5-444a-982a-a35605ea1440",
   "metadata": {
    "tags": []
   },
   "outputs": [],
   "source": [
    "#hashingTF = HashingTF(inputCol=\"filtered_words\", outputCol=\"rawFeatures\")\n",
    "countV = CountVectorizer(inputCol=\"filtered_words\", outputCol=\"rawFeatures\")\n"
   ]
  },
  {
   "cell_type": "code",
   "execution_count": null,
   "id": "8b086005-c959-470b-b833-3c8a0183a8b0",
   "metadata": {},
   "outputs": [],
   "source": [
    "countModel = countV.fit(reviews_df)\n",
    "reviews_df = countModel.transform(reviews_df)\n",
    "# Maybe use CountVectorizer instead? https://spark.apache.org/docs/latest/ml-features.html#tf-idf"
   ]
  },
  {
   "cell_type": "code",
   "execution_count": 28,
   "id": "69584dcc-bfc9-48e7-9966-c01230104b08",
   "metadata": {
    "tags": []
   },
   "outputs": [
    {
     "data": {
      "text/plain": [
       "['great',\n",
       " 'good',\n",
       " 'love',\n",
       " 'time',\n",
       " 'work',\n",
       " 'recommend',\n",
       " 'back',\n",
       " 'easy',\n",
       " 'make',\n",
       " 'bought']"
      ]
     },
     "execution_count": 28,
     "metadata": {},
     "output_type": "execute_result"
    }
   ],
   "source": [
    "countModel.vocabulary[:10]"
   ]
  },
  {
   "cell_type": "code",
   "execution_count": 15,
   "id": "f8083922-f1c8-43a2-aaec-333c53162eb0",
   "metadata": {
    "tags": []
   },
   "outputs": [
    {
     "name": "stderr",
     "output_type": "stream",
     "text": [
      "24/05/17 14:44:42 WARN DAGScheduler: Broadcasting large task binary with size 1057.6 KiB\n",
      "                                                                                \r"
     ]
    },
    {
     "data": {
      "text/plain": [
       "[Row(category='Patio_Lawn_and_Garde', reviewText=\"This was a gift for my other husband.  He's making us things from it all the time and we love the food.  Directions are simple, easy to read and interpret, and fun to make.  We all love different kinds of cuisine and Raichlen provides recipes from everywhere along the barbecue trail as he calls it. Get it and just open a page.  Have at it.  You'll love the food and it has provided us with an insight into the culture that produced it. It's all about broadening horizons.  Yum!!\", words=['this', 'was', 'a', 'gift', 'for', 'my', 'other', 'husband', 'he', 's', 'making', 'us', 'things', 'from', 'it', 'all', 'the', 'time', 'and', 'we', 'love', 'the', 'food', 'directions', 'are', 'simple', 'easy', 'to', 'read', 'and', 'interpret', 'and', 'fun', 'to', 'make', 'we', 'all', 'love', 'different', 'kinds', 'of', 'cuisine', 'and', 'raichlen', 'provides', 'recipes', 'from', 'everywhere', 'along', 'the', 'barbecue', 'trail', 'as', 'he', 'calls', 'it', 'get', 'it', 'and', 'just', 'open', 'a', 'page', 'have', 'at', 'it', 'you', 'll', 'love', 'the', 'food', 'and', 'it', 'has', 'provided', 'us', 'with', 'an', 'insight', 'into', 'the', 'culture', 'that', 'produced', 'it', 'it', 's', 'all', 'about', 'broadening', 'horizons', 'yum'], filtered_words=['gift', 'husband', 'making', 'things', 'time', 'love', 'food', 'directions', 'simple', 'easy', 'interpret', 'make', 'love', 'kinds', 'cuisine', 'raichlen', 'recipes', 'barbecue', 'trail', 'calls', 'open', 'page', 'love', 'food', 'provided', 'insight', 'culture', 'produced', 'broadening', 'horizons', 'yum'], rawFeatures=SparseVector(96130, {2: 3.0, 3: 1.0, 7: 1.0, 8: 1.0, 38: 1.0, 128: 1.0, 146: 1.0, 162: 1.0, 166: 1.0, 197: 1.0, 218: 1.0, 270: 2.0, 405: 1.0, 647: 1.0, 816: 1.0, 993: 1.0, 1043: 1.0, 1097: 1.0, 1247: 1.0, 1820: 1.0, 2848: 1.0, 8539: 1.0, 10397: 1.0, 10631: 1.0, 12100: 1.0, 22066: 1.0, 22156: 1.0, 50212: 1.0}))]"
      ]
     },
     "execution_count": 15,
     "metadata": {},
     "output_type": "execute_result"
    }
   ],
   "source": [
    "reviews_df.take(1)"
   ]
  },
  {
   "cell_type": "code",
   "execution_count": 11,
   "id": "939ee103-64d4-4175-8e00-32352ee5d453",
   "metadata": {
    "tags": []
   },
   "outputs": [],
   "source": [
    "idf = IDF(inputCol=\"rawFeatures\", outputCol=\"features\")\n"
   ]
  },
  {
   "cell_type": "code",
   "execution_count": null,
   "id": "a8860d85-1434-4831-98a7-8f4ddaecc73e",
   "metadata": {},
   "outputs": [],
   "source": [
    "idfModel = idf.fit(reviews_df)\n",
    "reviews_df = idfModel.transform(reviews_df)"
   ]
  },
  {
   "cell_type": "code",
   "execution_count": 17,
   "id": "a5d75cd2-a1bf-4fe1-9c78-9a5216677dc6",
   "metadata": {
    "tags": []
   },
   "outputs": [
    {
     "name": "stderr",
     "output_type": "stream",
     "text": [
      "24/05/17 14:44:50 WARN DAGScheduler: Broadcasting large task binary with size 2.5 MiB\n"
     ]
    },
    {
     "data": {
      "text/plain": [
       "[Row(category='Patio_Lawn_and_Garde', reviewText=\"This was a gift for my other husband.  He's making us things from it all the time and we love the food.  Directions are simple, easy to read and interpret, and fun to make.  We all love different kinds of cuisine and Raichlen provides recipes from everywhere along the barbecue trail as he calls it. Get it and just open a page.  Have at it.  You'll love the food and it has provided us with an insight into the culture that produced it. It's all about broadening horizons.  Yum!!\", words=['this', 'was', 'a', 'gift', 'for', 'my', 'other', 'husband', 'he', 's', 'making', 'us', 'things', 'from', 'it', 'all', 'the', 'time', 'and', 'we', 'love', 'the', 'food', 'directions', 'are', 'simple', 'easy', 'to', 'read', 'and', 'interpret', 'and', 'fun', 'to', 'make', 'we', 'all', 'love', 'different', 'kinds', 'of', 'cuisine', 'and', 'raichlen', 'provides', 'recipes', 'from', 'everywhere', 'along', 'the', 'barbecue', 'trail', 'as', 'he', 'calls', 'it', 'get', 'it', 'and', 'just', 'open', 'a', 'page', 'have', 'at', 'it', 'you', 'll', 'love', 'the', 'food', 'and', 'it', 'has', 'provided', 'us', 'with', 'an', 'insight', 'into', 'the', 'culture', 'that', 'produced', 'it', 'it', 's', 'all', 'about', 'broadening', 'horizons', 'yum'], filtered_words=['gift', 'husband', 'making', 'things', 'time', 'love', 'food', 'directions', 'simple', 'easy', 'interpret', 'make', 'love', 'kinds', 'cuisine', 'raichlen', 'recipes', 'barbecue', 'trail', 'calls', 'open', 'page', 'love', 'food', 'provided', 'insight', 'culture', 'produced', 'broadening', 'horizons', 'yum'], rawFeatures=SparseVector(96130, {2: 3.0, 3: 1.0, 7: 1.0, 8: 1.0, 38: 1.0, 128: 1.0, 146: 1.0, 162: 1.0, 166: 1.0, 197: 1.0, 218: 1.0, 270: 2.0, 405: 1.0, 647: 1.0, 816: 1.0, 993: 1.0, 1043: 1.0, 1097: 1.0, 1247: 1.0, 1820: 1.0, 2848: 1.0, 8539: 1.0, 10397: 1.0, 10631: 1.0, 12100: 1.0, 22066: 1.0, 22156: 1.0, 50212: 1.0}), features=SparseVector(96130, {2: 5.6479, 3: 1.9101, 7: 2.4874, 8: 2.5549, 38: 3.0958, 128: 3.7339, 146: 3.8111, 162: 3.995, 166: 3.8671, 197: 4.0657, 218: 4.095, 270: 8.9232, 405: 4.9543, 647: 4.8798, 816: 5.242, 993: 5.2113, 1043: 5.2836, 1097: 5.4143, 1247: 5.4912, 1820: 5.8155, 2848: 6.4309, 8539: 7.8411, 10397: 8.017, 10631: 8.2793, 12100: 8.2793, 22066: 9.1956, 22156: 9.1956, 50212: 10.1764}))]"
      ]
     },
     "execution_count": 17,
     "metadata": {},
     "output_type": "execute_result"
    }
   ],
   "source": [
    "reviews_df.take(1)"
   ]
  },
  {
   "cell_type": "markdown",
   "id": "760c3fcc-5a87-4ed9-9a94-76e373521982",
   "metadata": {},
   "source": [
    "To implement the Chi Square selector, we first need to convert the categories into numerics"
   ]
  },
  {
   "cell_type": "code",
   "execution_count": 12,
   "id": "623e43a1-b476-459a-820a-328b88c5cea8",
   "metadata": {
    "tags": []
   },
   "outputs": [],
   "source": [
    "# Apply StringIndexer to convert categorical column to numerical\n",
    "indexer = StringIndexer(inputCol=\"category\", outputCol=\"categoryIndex\")\n"
   ]
  },
  {
   "cell_type": "code",
   "execution_count": null,
   "id": "b4ea900d-ed2c-45ef-985e-1f9ae7d43206",
   "metadata": {},
   "outputs": [],
   "source": [
    "reviews_df = indexer.fit(reviews_df).transform(reviews_df)"
   ]
  },
  {
   "cell_type": "code",
   "execution_count": 19,
   "id": "49b2ea2e-c079-4812-9e44-0126728e1ad3",
   "metadata": {
    "tags": []
   },
   "outputs": [
    {
     "name": "stdout",
     "output_type": "stream",
     "text": [
      "+-------------+\n",
      "|categoryIndex|\n",
      "+-------------+\n",
      "|         18.0|\n",
      "|         18.0|\n",
      "|         18.0|\n",
      "|         18.0|\n",
      "|         18.0|\n",
      "|         18.0|\n",
      "|         18.0|\n",
      "|         18.0|\n",
      "|         18.0|\n",
      "|         18.0|\n",
      "|         18.0|\n",
      "|         18.0|\n",
      "|         18.0|\n",
      "|         18.0|\n",
      "|         18.0|\n",
      "|         18.0|\n",
      "|         18.0|\n",
      "|         18.0|\n",
      "|         18.0|\n",
      "|         18.0|\n",
      "+-------------+\n",
      "only showing top 20 rows\n",
      "\n"
     ]
    }
   ],
   "source": [
    "reviews_df.select('categoryIndex').show()"
   ]
  },
  {
   "cell_type": "code",
   "execution_count": 20,
   "id": "8562370e-0d71-4072-8141-d36f5926add6",
   "metadata": {
    "tags": []
   },
   "outputs": [
    {
     "name": "stderr",
     "output_type": "stream",
     "text": [
      "24/05/17 14:44:53 WARN DAGScheduler: Broadcasting large task binary with size 2.5 MiB\n",
      "24/05/17 14:44:53 WARN DAGScheduler: Broadcasting large task binary with size 2.5 MiB\n",
      "24/05/17 14:45:01 WARN DAGScheduler: Broadcasting large task binary with size 2.5 MiB\n",
      "                                                                                \r"
     ]
    }
   ],
   "source": [
    "chiSelector = ChiSqSelector(numTopFeatures=2000, outputCol=\"selectedFeatures2\", featuresCol=\"features\", labelCol=\"categoryIndex\")\n",
    "model = chiSelector.fit(reviews_df)\n"
   ]
  },
  {
   "cell_type": "code",
   "execution_count": 21,
   "id": "3b6ea692-9185-4e94-acab-8ebc0d24c578",
   "metadata": {
    "tags": []
   },
   "outputs": [
    {
     "name": "stdout",
     "output_type": "stream",
     "text": [
      "+------------------------------------------------------------------------------------------------------------------------------------------------------------------------------------------------------------------------------------------------------------------------------------------------------------------------------------------------+\n",
      "|selectedFeatures2                                                                                                                                                                                                                                                                                                                               |\n",
      "+------------------------------------------------------------------------------------------------------------------------------------------------------------------------------------------------------------------------------------------------------------------------------------------------------------------------------------------------+\n",
      "|(2000,[2,3,7,8,35,118,146,150,176,233,341,632,759,822,914],[5.647911049617077,1.9101008238513324,2.487370675014457,2.5549148786410263,3.0958491156308683,3.7338964589176458,3.995040661169766,3.867124591494355,4.065708657451045,8.923208629086115,4.954280619803371,5.241962692255153,5.2112637053663455,5.414262690588088,5.491223731724216])|\n",
      "+------------------------------------------------------------------------------------------------------------------------------------------------------------------------------------------------------------------------------------------------------------------------------------------------------------------------------------------------+\n",
      "only showing top 1 row\n",
      "\n"
     ]
    },
    {
     "name": "stderr",
     "output_type": "stream",
     "text": [
      "24/05/17 14:45:25 WARN DAGScheduler: Broadcasting large task binary with size 2.5 MiB\n"
     ]
    }
   ],
   "source": [
    "model.transform(reviews_df).select('selectedFeatures2').show(1, truncate=False)"
   ]
  },
  {
   "cell_type": "code",
   "execution_count": 13,
   "id": "0bc18d5b-0676-400d-b052-7bef239683fa",
   "metadata": {
    "tags": []
   },
   "outputs": [
    {
     "data": {
      "text/plain": [
       "UnivariateFeatureSelector_156a50f66587"
      ]
     },
     "execution_count": 13,
     "metadata": {},
     "output_type": "execute_result"
    }
   ],
   "source": [
    "selector = UnivariateFeatureSelector(\n",
    "    featuresCol=\"features\",outputCol=\"selectedFeatures\",\n",
    "    labelCol=\"categoryIndex\",  selectionMode=\"numTopFeatures\",\n",
    ")\n",
    "selector.setFeatureType(\"categorical\").setLabelType(\"categorical\").setSelectionThreshold(2000)\n",
    "\n",
    "\n"
   ]
  },
  {
   "cell_type": "code",
   "execution_count": null,
   "id": "b4b7ecf2-76d5-4c0f-a9f2-0fa079b826ac",
   "metadata": {},
   "outputs": [],
   "source": [
    "result = selector.fit(reviews_df)"
   ]
  },
  {
   "cell_type": "code",
   "execution_count": 23,
   "id": "f9a2eb76-e7fa-43a3-bb5e-3511913aaa9f",
   "metadata": {
    "tags": []
   },
   "outputs": [
    {
     "name": "stderr",
     "output_type": "stream",
     "text": [
      "24/05/17 14:45:56 WARN DAGScheduler: Broadcasting large task binary with size 2.5 MiB\n"
     ]
    },
    {
     "name": "stdout",
     "output_type": "stream",
     "text": [
      "+------------------------------------------------------------------------------------------------------------------------------------------------------------------------------------------------------------------------------------------------------------------------------------------------------------------------------------------------+\n",
      "|selectedFeatures                                                                                                                                                                                                                                                                                                                                |\n",
      "+------------------------------------------------------------------------------------------------------------------------------------------------------------------------------------------------------------------------------------------------------------------------------------------------------------------------------------------------+\n",
      "|(2000,[2,3,7,8,35,118,146,150,176,233,341,632,759,822,914],[5.647911049617077,1.9101008238513324,2.487370675014457,2.5549148786410263,3.0958491156308683,3.7338964589176458,3.995040661169766,3.867124591494355,4.065708657451045,8.923208629086115,4.954280619803371,5.241962692255153,5.2112637053663455,5.414262690588088,5.491223731724216])|\n",
      "+------------------------------------------------------------------------------------------------------------------------------------------------------------------------------------------------------------------------------------------------------------------------------------------------------------------------------------------------+\n",
      "only showing top 1 row\n",
      "\n"
     ]
    }
   ],
   "source": [
    "# Extract the chi-square values and feature indices\n",
    "selected_features = result.selectedFeatures\n",
    "#selected_chi_square_values = model._java_obj.chiSqSelectorModel().selectedStats().values()\n",
    "result.transform(reviews_df).select('selectedFeatures').show(1, truncate=False)"
   ]
  },
  {
   "cell_type": "code",
   "execution_count": 14,
   "id": "da257682-1594-450c-b18f-29b3a328bf22",
   "metadata": {
    "tags": []
   },
   "outputs": [],
   "source": [
    "pipeline = Pipeline(stages=[regexTokenizer, remover, countV, idf, indexer, selector])"
   ]
  },
  {
   "cell_type": "code",
   "execution_count": 15,
   "id": "d434b0f7-6550-44fc-8646-f03ef8d590a7",
   "metadata": {
    "tags": []
   },
   "outputs": [
    {
     "name": "stderr",
     "output_type": "stream",
     "text": [
      "24/05/17 14:54:44 WARN DAGScheduler: Broadcasting large task binary with size 1059.7 KiB\n",
      "24/05/17 14:54:54 WARN DAGScheduler: Broadcasting large task binary with size 2.5 MiB\n",
      "24/05/17 14:54:54 WARN DAGScheduler: Broadcasting large task binary with size 2.5 MiB\n",
      "24/05/17 14:55:01 WARN DAGScheduler: Broadcasting large task binary with size 2.5 MiB\n",
      "                                                                                \r"
     ]
    }
   ],
   "source": [
    "model = pipeline.fit(reviews_df)"
   ]
  },
  {
   "cell_type": "code",
   "execution_count": 16,
   "id": "f2bcade8-b9d6-4f68-8da1-7f0df3981f3d",
   "metadata": {
    "tags": []
   },
   "outputs": [],
   "source": [
    "result = model.transform(reviews_df)"
   ]
  },
  {
   "cell_type": "code",
   "execution_count": 21,
   "id": "efcdb220-fdba-437c-940c-29853c75e0f8",
   "metadata": {
    "tags": []
   },
   "outputs": [
    {
     "data": {
      "text/plain": [
       "Column<'selectedFeatures'>"
      ]
     },
     "execution_count": 21,
     "metadata": {},
     "output_type": "execute_result"
    }
   ],
   "source": [
    "result.selectedFeatures"
   ]
  },
  {
   "cell_type": "code",
   "execution_count": null,
   "id": "0fbaffe6-c201-4c37-bea8-cca0414943cc",
   "metadata": {},
   "outputs": [],
   "source": []
  }
 ],
 "metadata": {
  "kernelspec": {
   "display_name": "Python 3 (DIC24)",
   "language": "python",
   "name": "python3_dic24"
  },
  "language_info": {
   "codemirror_mode": {
    "name": "ipython",
    "version": 3
   },
   "file_extension": ".py",
   "mimetype": "text/x-python",
   "name": "python",
   "nbconvert_exporter": "python",
   "pygments_lexer": "ipython3",
   "version": "3.9.18"
  }
 },
 "nbformat": 4,
 "nbformat_minor": 5
}
