{
 "cells": [
  {
   "cell_type": "markdown",
   "id": "e65775f1-cfd2-4633-a30d-caa5cdf1e685",
   "metadata": {
    "tags": []
   },
   "source": [
    "## Part 1 RDDs\n",
    "Repeat the steps of Assignment 1, i.e. calculation of chi-square values and output of the sorted top terms per category, as well as the joined dictionary, using RDDs and transformations. Write the output to a file output_rdd.txt. Compare the generated output_rdd.txt with your generated output.txt from Assignment 1 and describe your observations briefly in the submission report (see Part 3)."
   ]
  },
  {
   "cell_type": "code",
   "execution_count": 1,
   "id": "034d7aa7-fcbb-4753-8094-dd0198ab4705",
   "metadata": {
    "tags": []
   },
   "outputs": [],
   "source": [
    "from pyspark import SparkContext, SparkConf\n",
    "from pyspark.sql import SparkSession\n",
    "import json\n",
    "import re"
   ]
  },
  {
   "cell_type": "code",
   "execution_count": 2,
   "id": "6eb2ba36-faca-4cae-8c41-cca50f55d6ee",
   "metadata": {
    "tags": []
   },
   "outputs": [
    {
     "name": "stderr",
     "output_type": "stream",
     "text": [
      "SLF4J: Class path contains multiple SLF4J bindings."
     ]
    }
   ],
   "source": [
    "# Initialize Spark context and session\n",
    "conf = SparkConf().setAppName(\"ChiSquareAnalysis\")\n",
    "sc = SparkContext(conf=conf)\n",
    "spark = SparkSession(sc)"
   ]
  },
  {
   "cell_type": "code",
   "execution_count": 3,
   "id": "300de9d9-a9e5-4e43-a694-50d48126becd",
   "metadata": {
    "tags": []
   },
   "outputs": [
    {
     "data": {
      "text/html": [
       "\n",
       "            <div>\n",
       "                <p><b>SparkSession - in-memory</b></p>\n",
       "                \n",
       "        <div>\n",
       "            <p><b>SparkContext</b></p>\n",
       "\n",
       "            <p><a href=\"http://jupyter01.os.hpc.tuwien.ac.at:4044\">Spark UI</a></p>\n",
       "\n",
       "            <dl>\n",
       "              <dt>Version</dt>\n",
       "                <dd><code>v3.2.3</code></dd>\n",
       "              <dt>Master</dt>\n",
       "                <dd><code>yarn</code></dd>\n",
       "              <dt>AppName</dt>\n",
       "                <dd><code>ChiSquareAnalysis</code></dd>\n",
       "            </dl>\n",
       "        </div>\n",
       "        \n",
       "            </div>\n",
       "        "
      ],
      "text/plain": [
       "<pyspark.sql.session.SparkSession at 0x7fd83c0fa820>"
      ]
     },
     "execution_count": 3,
     "metadata": {},
     "output_type": "execute_result"
    }
   ],
   "source": [
    "spark"
   ]
  },
  {
   "cell_type": "markdown",
   "id": "c80d4de8-6048-410b-967f-459990b72f5c",
   "metadata": {},
   "source": [
    "### Preprocessing"
   ]
  },
  {
   "cell_type": "code",
   "execution_count": 4,
   "id": "dd1b69c1-4161-422f-b65d-e7681dd91582",
   "metadata": {
    "tags": []
   },
   "outputs": [],
   "source": [
    "# Define the stopwords file and the counters file\n",
    "stopwords_file = \"stopwords.txt\"\n",
    "\n",
    "# Load stopwords into a set\n",
    "with open(stopwords_file, \"r\") as f:\n",
    "    stopwords = set(f.read().strip().split())\n",
    "    \n",
    "# Load and preprocess the Amazon reviews dataset\n",
    "input_file = \"hdfs:///user/dic24_shared/amazon-reviews/full/reviews_devset.json\"\n",
    "reviews_rdd = sc.textFile(input_file)"
   ]
  },
  {
   "cell_type": "code",
   "execution_count": 5,
   "id": "762fcb6b-39a6-4a96-b7a0-8efa8651a69d",
   "metadata": {
    "tags": []
   },
   "outputs": [
    {
     "data": {
      "text/plain": [
       "['{\"reviewerID\": \"A2VNYWOPJ13AFP\", \"asin\": \"0981850006\", \"reviewerName\": \"Amazon Customer \\\\\"carringt0n\\\\\"\", \"helpful\": [6, 7], \"reviewText\": \"This was a gift for my other husband.  He\\'s making us things from it all the time and we love the food.  Directions are simple, easy to read and interpret, and fun to make.  We all love different kinds of cuisine and Raichlen provides recipes from everywhere along the barbecue trail as he calls it. Get it and just open a page.  Have at it.  You\\'ll love the food and it has provided us with an insight into the culture that produced it. It\\'s all about broadening horizons.  Yum!!\", \"overall\": 5.0, \"summary\": \"Delish\", \"unixReviewTime\": 1259798400, \"reviewTime\": \"12 3, 2009\", \"category\": \"Patio_Lawn_and_Garde\"}',\n",
       " '{\"reviewerID\": \"A2E5XXXC07AGA7\", \"asin\": \"B00002N66D\", \"reviewerName\": \"James\", \"helpful\": [1, 1], \"reviewText\": \"This is a very nice spreader.  It feels very solid and the pneumatic tires give it great maneuverability and handling over bumps.  The control arm is solid metal, not a cable, which gives you precise control and will last a long time.  The settings take some experimentation with your various products to get it right, but that is true of any spreader.  It has good distribution... probably flings material a little farther on the right side than the left, but it is far more even than my crappy Edgeguard ever was.\", \"overall\": 5.0, \"summary\": \"Nice spreader\", \"unixReviewTime\": 1354492800, \"reviewTime\": \"12 3, 2012\", \"category\": \"Patio_Lawn_and_Garde\"}']"
      ]
     },
     "execution_count": 5,
     "metadata": {},
     "output_type": "execute_result"
    }
   ],
   "source": [
    "# Show first two objects of reviews_rdd\n",
    "reviews_rdd.take(2)"
   ]
  },
  {
   "cell_type": "code",
   "execution_count": 6,
   "id": "2029901b-1fd1-4bf0-98c2-c0aba5065e65",
   "metadata": {
    "tags": []
   },
   "outputs": [],
   "source": [
    "def preprocess_text(text):\n",
    "    text = text.lower()\n",
    "    unigrams = re.split(r'\\s+|\\d+|[(){}[\\].!?,;:+=_\"\\'`~#@&*%€$§\\\\/\\-]', text)\n",
    "    unigrams = set(unigrams)\n",
    "    return unigrams\n",
    "\n",
    "def valid_word(word):\n",
    "    if len(word) > 1 and word not in stopwords:\n",
    "        return word\n",
    "    \n",
    "json_rdd = reviews_rdd.map(lambda line: json.loads(line))\n",
    "\n",
    "word_category_rdd = json_rdd.flatMap(lambda x: [(x[\"category\"], word) for word in preprocess_text(x['reviewText']) if valid_word(word)])"
   ]
  },
  {
   "cell_type": "code",
   "execution_count": 7,
   "id": "740dfd17-5fde-4594-b1af-d4a8be8a7a03",
   "metadata": {
    "tags": []
   },
   "outputs": [
    {
     "data": {
      "text/plain": [
       "[('Patio_Lawn_and_Garde', 'insight')]"
      ]
     },
     "execution_count": 7,
     "metadata": {},
     "output_type": "execute_result"
    }
   ],
   "source": [
    "word_category_rdd.take(1)"
   ]
  },
  {
   "cell_type": "code",
   "execution_count": 8,
   "id": "a47e111b-2051-437e-92a5-b12326803682",
   "metadata": {
    "tags": []
   },
   "outputs": [],
   "source": [
    "combined_rdd = word_category_rdd.map(lambda x: (x,1)).reduceByKey(lambda x,y: x + y)"
   ]
  },
  {
   "cell_type": "code",
   "execution_count": 9,
   "id": "42efbf51-5982-4b1b-a8f9-181949ee091c",
   "metadata": {
    "tags": []
   },
   "outputs": [
    {
     "data": {
      "text/plain": [
       "[(('Patio_Lawn_and_Garde', 'horizons'), 1)]"
      ]
     },
     "execution_count": 9,
     "metadata": {},
     "output_type": "execute_result"
    }
   ],
   "source": [
    "combined_rdd.take(1)"
   ]
  },
  {
   "cell_type": "code",
   "execution_count": 10,
   "id": "5eaf9569-64da-4010-8788-c914b46de003",
   "metadata": {
    "tags": []
   },
   "outputs": [],
   "source": [
    "reduced_rdd = combined_rdd.map(lambda x: (x[0][0], (x[0][1],x[1])))"
   ]
  },
  {
   "cell_type": "code",
   "execution_count": 11,
   "id": "a3e762dc-e84a-4693-8974-a06516015652",
   "metadata": {
    "tags": []
   },
   "outputs": [
    {
     "name": "stdout",
     "output_type": "stream",
     "text": [
      "Apps_for_Android\n",
      "scripture 2\n",
      "verse 2\n",
      "tremendously 1\n",
      "chapter 3\n",
      "friendly 13\n",
      "Book\n",
      "discourse 16\n",
      "feel 1440\n",
      "anger 67\n",
      "love 3812\n",
      "consumed 26\n"
     ]
    }
   ],
   "source": [
    "# Version for showing intermediate results\n",
    "for category, word_count in reduced_rdd.groupByKey().take(2):\n",
    "    print(category)\n",
    "    word_count_list = list(word_count)\n",
    "    for word, count_in_count in word_count_list[:5]:\n",
    "        print(word, count_in_count)"
   ]
  },
  {
   "cell_type": "markdown",
   "id": "81f23be2-db88-4d3e-923f-bf690296ce26",
   "metadata": {},
   "source": [
    "### Intermediate step\n",
    "Calculate counters.txt as done in our MapReduce Job"
   ]
  },
  {
   "cell_type": "code",
   "execution_count": 12,
   "id": "c1ed1f9f-77a9-4025-bac6-99741ea33edd",
   "metadata": {
    "tags": []
   },
   "outputs": [
    {
     "data": {
      "text/plain": [
       "78829"
      ]
     },
     "execution_count": 12,
     "metadata": {},
     "output_type": "execute_result"
    }
   ],
   "source": [
    "dataset_length = reviews_rdd.count()\n",
    "dataset_length"
   ]
  },
  {
   "cell_type": "code",
   "execution_count": 13,
   "id": "73f57750-a88b-4574-85d3-1db5d41d901e",
   "metadata": {
    "tags": []
   },
   "outputs": [
    {
     "data": {
      "text/plain": [
       "[('Apps_for_Android', 2638),\n",
       " ('Book', 22507),\n",
       " ('Toys_and_Game', 2253),\n",
       " ('Office_Product', 1243),\n",
       " ('Digital_Music', 836),\n",
       " ('Automotive', 1374),\n",
       " ('Beauty', 2023),\n",
       " ('Kindle_Store', 3205),\n",
       " ('Electronic', 7825),\n",
       " ('Movies_and_TV', 4607),\n",
       " ('Tools_and_Home_Improvement', 1926),\n",
       " ('Grocery_and_Gourmet_Food', 1297),\n",
       " ('Musical_Instrument', 500),\n",
       " ('CDs_and_Vinyl', 3749),\n",
       " ('Clothing_Shoes_and_Jewelry', 5749),\n",
       " ('Home_and_Kitche', 4254),\n",
       " ('Cell_Phones_and_Accessorie', 3447),\n",
       " ('Pet_Supplie', 1235),\n",
       " ('Baby', 916),\n",
       " ('Health_and_Personal_Care', 2982),\n",
       " ('Patio_Lawn_and_Garde', 994),\n",
       " ('Sports_and_Outdoor', 3269)]"
      ]
     },
     "execution_count": 13,
     "metadata": {},
     "output_type": "execute_result"
    }
   ],
   "source": [
    "reviews_per_category_count_rdd = json_rdd.map(lambda x: (x['category'],1)).reduceByKey(lambda x, y: x + y)\n",
    "reviews_per_category_count_rdd.collect()"
   ]
  },
  {
   "cell_type": "markdown",
   "id": "df894e2a-b7b5-403d-838e-20a631a1b9a5",
   "metadata": {
    "tags": []
   },
   "source": [
    "### Calculate Chi-Square"
   ]
  },
  {
   "cell_type": "code",
   "execution_count": 14,
   "id": "2043cd2b-6efe-4dc9-981e-e3365379732c",
   "metadata": {
    "tags": []
   },
   "outputs": [
    {
     "data": {
      "text/plain": [
       "[(('Musical_Instrument', 'mic'), 24)]"
      ]
     },
     "execution_count": 14,
     "metadata": {},
     "output_type": "execute_result"
    }
   ],
   "source": [
    "# calculate value A (number of documents in c which contain t)\n",
    "A_value_rdd = reduced_rdd.map(lambda x: ((x[0], x[1][0]), x[1][1]))\n",
    "A_value_rdd.take(1)"
   ]
  },
  {
   "cell_type": "code",
   "execution_count": 15,
   "id": "6339e680-9aa6-476d-935a-8eed40b4f72b",
   "metadata": {
    "tags": []
   },
   "outputs": [
    {
     "data": {
      "text/plain": [
       "[('means', 824)]"
      ]
     },
     "execution_count": 15,
     "metadata": {},
     "output_type": "execute_result"
    }
   ],
   "source": [
    "# calculate how often a word occurs across all categories\n",
    "B_value_complete_rdd = reduced_rdd.map(lambda x: (x[1][0],x[1][1])).reduceByKey(lambda x, y: x + y)\n",
    "B_value_complete_rdd.take(1)"
   ]
  },
  {
   "cell_type": "code",
   "execution_count": 16,
   "id": "f9a0753b-b34d-45e2-991b-23329bd8b86d",
   "metadata": {
    "tags": []
   },
   "outputs": [],
   "source": [
    "#B_value_temp_rdd = reduced_rdd.map(lambda x: (x[1][0],(x[0],x[1][1]))).join(B_value_complete_rdd)\n",
    "#B_value_temp_rdd.take(1)"
   ]
  },
  {
   "cell_type": "code",
   "execution_count": 17,
   "id": "87d00039-25a1-400f-a643-0882af87c5b5",
   "metadata": {
    "tags": []
   },
   "outputs": [
    {
     "data": {
      "text/plain": [
       "[(('Musical_Instrument', 'items'), (5, 686))]"
      ]
     },
     "execution_count": 17,
     "metadata": {},
     "output_type": "execute_result"
    }
   ],
   "source": [
    "# calulate B value (number of documents not in c which contain t) value is obtained by subtracting A from total count\n",
    "# the value for the join is saved in a combined rdd to save compute power later on\n",
    "A_B_value_rdd = A_value_rdd.map(lambda x: (x[0][1], (x[0][0], x[1]))).join(B_value_complete_rdd).map(lambda x: ((x[1][0][0], x[0]),  (x[1][0][1], x[1][1] - x[1][0][1])))\n",
    "A_B_value_rdd.take(1)"
   ]
  },
  {
   "cell_type": "code",
   "execution_count": 18,
   "id": "f01f7311-d5b8-4be6-96c9-1a2294334d20",
   "metadata": {
    "tags": []
   },
   "outputs": [
    {
     "data": {
      "text/plain": [
       "[(('Electronic', 'cable'), 7262)]"
      ]
     },
     "execution_count": 18,
     "metadata": {},
     "output_type": "execute_result"
    }
   ],
   "source": [
    "# calculate C value (number of documents in c without t) occurences of word per category subtracted from all documents in category\n",
    "C_value_rdd = reduced_rdd.join(reviews_per_category_count_rdd).map(lambda x: ((x[0], x[1][0][0]), x[1][1] - x[1][0][1]))\n",
    "C_value_rdd.take(1)"
   ]
  },
  {
   "cell_type": "code",
   "execution_count": 19,
   "id": "858e4e20-8991-43c5-ab5d-b0c3d1259602",
   "metadata": {
    "tags": []
   },
   "outputs": [
    {
     "data": {
      "text/plain": [
       "[(('Clothing_Shoes_and_Jewelry', 'outcome'), (1, 101, 5748, 72979))]"
      ]
     },
     "execution_count": 19,
     "metadata": {},
     "output_type": "execute_result"
    }
   ],
   "source": [
    "# calculate D value (number of documents not in c without t) add up A, B and C and subtract from total number of documents\n",
    "# all values are saved in combined RDD to save compute power\n",
    "A_B_C_D_values_rdd = A_B_value_rdd.join(C_value_rdd).map(lambda x: (x[0], (x[1][0][0], x[1][0][1], x[1][1], dataset_length - (x[1][0][0] + x[1][0][1] + x[1][1]))))\n",
    "A_B_C_D_values_rdd.take(1)                                         "
   ]
  },
  {
   "cell_type": "code",
   "execution_count": 20,
   "id": "679f2b9c-1f84-46d4-a237-aff4069b5a5a",
   "metadata": {
    "tags": []
   },
   "outputs": [],
   "source": [
    "# caluclate chi square via formula in the slides\n",
    "chi_square_rdd = A_B_C_D_values_rdd.map(lambda x: (x[0][0], (x[0][1],\n",
    "                                                             ((dataset_length * (x[1][0] * x[1][3] - x[1][1] * x[1][2])** 2)/\n",
    "                                                              ((x[1][0] + x[1][1]) * (x[1][0] + x[1][2])\n",
    "                                                               * (x[1][1] + x[1][3]) * (x[1][2] + x[1][3]))))))"
   ]
  },
  {
   "cell_type": "code",
   "execution_count": 21,
   "id": "61fe6c0c-abd3-41a9-8167-77c2e6d4938f",
   "metadata": {
    "tags": []
   },
   "outputs": [
    {
     "data": {
      "text/plain": [
       "[('Movies_and_TV', ('scripture', 0.08225379139805572))]"
      ]
     },
     "execution_count": 21,
     "metadata": {},
     "output_type": "execute_result"
    }
   ],
   "source": [
    "chi_square_rdd.take(1)"
   ]
  },
  {
   "cell_type": "code",
   "execution_count": 22,
   "id": "49b4b824-2eab-42c9-ba90-ae571770bff6",
   "metadata": {
    "tags": []
   },
   "outputs": [
    {
     "data": {
      "text/plain": [
       "[('Toys_and_Game', ('toys', 1411.960520524251)),\n",
       " ('Toys_and_Game', ('loves', 1251.6935512104387)),\n",
       " ('Toys_and_Game', ('lego', 1219.5840386320606)),\n",
       " ('Toys_and_Game', ('son', 1183.031490681739)),\n",
       " ('Toys_and_Game', ('grandson', 953.6748919830555)),\n",
       " ('Toys_and_Game', ('dolls', 937.5559944440915)),\n",
       " ('Toys_and_Game', ('play', 847.7801996293716)),\n",
       " ('Toys_and_Game', ('birthday', 826.025153711533)),\n",
       " ('Toys_and_Game', ('kids', 799.8701275441781)),\n",
       " ('Toys_and_Game', ('christmas', 730.5924214814038))]"
      ]
     },
     "execution_count": 22,
     "metadata": {},
     "output_type": "execute_result"
    }
   ],
   "source": [
    "# sort values by category and chi square value\n",
    "chi_sort_rdd = chi_square_rdd.sortBy(lambda x: (x[0], x[1][1]), ascending=False)\n",
    "chi_sort_rdd.take(10)"
   ]
  },
  {
   "cell_type": "code",
   "execution_count": 23,
   "id": "5ebf5c51-8191-446d-a479-5da6a6eeb037",
   "metadata": {
    "tags": []
   },
   "outputs": [
    {
     "data": {
      "text/plain": [
       "[('Apps_for_Android',\n",
       "  [('games', 3081.1493374842926),\n",
       "   ('play', 2158.3694068201294),\n",
       "   ('graphics', 1505.5108977351497),\n",
       "   ('kindle', 1470.820942569012),\n",
       "   ('addictive', 1311.905562727777),\n",
       "   ('challenging', 1038.1284558527927),\n",
       "   ('coins', 1002.6647889526382),\n",
       "   ('addicting', 990.8441134974868),\n",
       "   ('fire', 956.1470053110605),\n",
       "   ('levels', 825.3813282736016),\n",
       "   ('playing', 692.9340396014182),\n",
       "   ('ads', 642.3969794099202),\n",
       "   ('puzzles', 596.7716753070063),\n",
       "   ('apps', 548.7810653104153),\n",
       "   ('free', 500.9884786241356),\n",
       "   ('bingo', 409.2358492981346),\n",
       "   ('mahjong', 322.00891943980963),\n",
       "   ('download', 303.8649278202287),\n",
       "   ('faotd', 288.8577201586641),\n",
       "   ('facebook', 282.51705437029005),\n",
       "   ('downloaded', 262.77022492215735),\n",
       "   ('hints', 242.61029019440056),\n",
       "   ('solitaire', 211.6429957838186),\n",
       "   ('android', 211.58105849598613),\n",
       "   ('puzzle', 198.85582217352504),\n",
       "   ('gameplay', 198.5123356770461),\n",
       "   ('freezes', 189.67737127837006),\n",
       "   ('unlock', 185.7521008338788),\n",
       "   ('played', 180.39650447458513),\n",
       "   ('deleted', 179.2243589462116),\n",
       "   ('bought', 174.4587211734982),\n",
       "   ('flappy', 173.30583696524425),\n",
       "   ('upgrades', 168.99856742047183),\n",
       "   ('awesome', 155.21008166532062),\n",
       "   ('tablet', 155.13822220891723),\n",
       "   ('price', 149.5959088208227),\n",
       "   ('calculator', 148.95756302858823),\n",
       "   ('developer', 148.37746519215403),\n",
       "   ('quality', 144.19395657092494),\n",
       "   ('permissions', 137.37091512558038),\n",
       "   ('author', 135.34205354169052),\n",
       "   ('earn', 134.7527163155313),\n",
       "   ('bored', 131.23190073884672),\n",
       "   ('uninstall', 127.29106315507559),\n",
       "   ('sudoku', 126.99968483964763),\n",
       "   ('fit', 126.10402357270084),\n",
       "   ('years', 124.35784441658689),\n",
       "   ('reading', 121.6512068956907),\n",
       "   ('made', 120.91456375779856),\n",
       "   ('characters', 118.09788512184657),\n",
       "   ('gameloft', 115.53429315666729),\n",
       "   ('series', 115.05716592780018),\n",
       "   ('written', 114.84060961362133),\n",
       "   ('addicted', 109.65036786251359),\n",
       "   ('crashes', 107.3093981107394),\n",
       "   ('brain', 106.92909693130997),\n",
       "   ('multiplayer', 102.51457697684802),\n",
       "   ('challenge', 102.18967874435549),\n",
       "   ('sims', 100.44868563758436),\n",
       "   ('uninstalling', 100.32193506574053),\n",
       "   ('tetris', 99.24357491450239),\n",
       "   ('back', 99.12491188526246),\n",
       "   ('glitches', 99.02553697390849),\n",
       "   ('end', 95.24822201431749),\n",
       "   ('waster', 94.22529346826073),\n",
       "   ('crashing', 93.68803122186573),\n",
       "   ('downloading', 93.54235192211287),\n",
       "   ('size', 93.34366680110553),\n",
       "   ('put', 91.54071641565497),\n",
       "   ('logos', 88.26571319760414),\n",
       "   ('minecraft', 88.26571319760414),\n",
       "   ('glu', 86.64962060177764),\n",
       "   ('pou', 86.64962060177764),\n",
       "   ('apos', 86.64962060177764),\n",
       "   ('devs', 86.64962060177764)])]"
      ]
     },
     "execution_count": 23,
     "metadata": {},
     "output_type": "execute_result"
    }
   ],
   "source": [
    "# sort values by category and select top 75 chi square values\n",
    "chi_cropped_rdd = chi_sort_rdd.groupByKey().map(lambda x: (x[0], list(x[1])[:75])).sortByKey()\n",
    "chi_cropped_rdd.take(1)"
   ]
  },
  {
   "cell_type": "code",
   "execution_count": 60,
   "id": "0d6a37b7-e99f-439f-a0d3-fe7e2d597c57",
   "metadata": {
    "tags": []
   },
   "outputs": [],
   "source": [
    "# collect RDD and write data to file\n",
    "data = chi_cropped_rdd.collect()\n",
    "\n",
    "# collect unique words from top 75\n",
    "def extract_words(record):\n",
    "    category, word_list = record\n",
    "    return [word for word, _ in word_list]\n",
    "\n",
    "words = chi_cropped_rdd.flatMap(extract_words)\n",
    "words = sorted(set(words.collect()))\n",
    "\n",
    "with open(\"output_rdd.txt\", \"w\") as writer:\n",
    "    for row in data:\n",
    "        writer.write(str(row) + '\\n')\n",
    "    for word in words:\n",
    "        writer.write(word + \" \")"
   ]
  },
  {
   "cell_type": "code",
   "execution_count": null,
   "id": "ed89e458",
   "metadata": {},
   "outputs": [],
   "source": [
    "spark.stop()"
   ]
  }
 ],
 "metadata": {
  "kernelspec": {
   "display_name": "Python 3 (DIC24)",
   "language": "python",
   "name": "python3_dic24"
  },
  "language_info": {
   "codemirror_mode": {
    "name": "ipython",
    "version": 3
   },
   "file_extension": ".py",
   "mimetype": "text/x-python",
   "name": "python",
   "nbconvert_exporter": "python",
   "pygments_lexer": "ipython3",
   "version": "3.9.18"
  }
 },
 "nbformat": 4,
 "nbformat_minor": 5
}
